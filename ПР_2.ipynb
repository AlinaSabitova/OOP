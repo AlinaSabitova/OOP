{
  "nbformat": 4,
  "nbformat_minor": 0,
  "metadata": {
    "colab": {
      "provenance": [],
      "authorship_tag": "ABX9TyOVEXpOlrzFScUE0bttG8GM",
      "include_colab_link": true
    },
    "kernelspec": {
      "name": "python3",
      "display_name": "Python 3"
    },
    "language_info": {
      "name": "python"
    }
  },
  "cells": [
    {
      "cell_type": "markdown",
      "metadata": {
        "id": "view-in-github",
        "colab_type": "text"
      },
      "source": [
        "<a href=\"https://colab.research.google.com/github/AlinaSabitova/OOP/blob/main/%D0%9F%D0%A0_2.ipynb\" target=\"_parent\"><img src=\"https://colab.research.google.com/assets/colab-badge.svg\" alt=\"Open In Colab\"/></a>"
      ]
    },
    {
      "cell_type": "markdown",
      "source": [
        "#Задание по вариантам"
      ],
      "metadata": {
        "id": "OSpnT39PJOZG"
      }
    },
    {
      "cell_type": "markdown",
      "source": [
        "1. В рамках приложения разработать класс В – наследник класса А (задание\n",
        "2) с полем d и свойством с2. Свойство с2 – результат вычисления\n",
        "выражения над полями a, b, d. В теле свойства использовать управляющий\n",
        "оператор (см. вариант в таблице 2.2). У класса А создать конструктор,\n",
        "инициализирующий его поля. Для класса В определить 2 конструктора:\n",
        "один – наследуется от конструктора класса А, второй – собственный. В\n",
        "теле программы создать объекты классов А и В, продемонстрировав\n",
        "работу всех конструкторов. Вывести значения свойства на экран. \n",
        "Вариант 15: if."
      ],
      "metadata": {
        "id": "54Gmb6RT5BuB"
      }
    },
    {
      "cell_type": "code",
      "source": [
        "class A:\n",
        "  def __init__(self, a, b):\n",
        "    self.a = a\n",
        "    self.b = b\n",
        "\n",
        "  def c(self): \n",
        "    \"\"\"\n",
        "    Складывает первое и второе числа\n",
        "    \"\"\"\n",
        "    return self.a+self.b\n",
        "\n",
        "class B(A):\n",
        "  def __init__(self, a, b, d):\n",
        "    super().__init__(a, b)\n",
        "    self.d = d\n",
        "  \n",
        "  def c2(self):\n",
        "    if self.d > self.a and self.d > self.b:\n",
        "      return self.d * 3\n",
        "    elif self.d < self.a and self.d < self.b:\n",
        "      return self.a + self.b + self.d\n",
        "    else:\n",
        "      return self.a + self.b\n",
        "    \n",
        "\n",
        "a = A(5, 8)\n",
        "print(a.c())\n",
        "b = B(5, 8, 12)\n",
        "print(b.c2())"
      ],
      "metadata": {
        "id": "IcWoSIR8vDW7",
        "outputId": "8a74af3b-c0f9-49ee-d522-9682bd623bd7",
        "colab": {
          "base_uri": "https://localhost:8080/"
        }
      },
      "execution_count": 23,
      "outputs": [
        {
          "output_type": "stream",
          "name": "stdout",
          "text": [
            "13\n",
            "36\n"
          ]
        }
      ]
    },
    {
      "cell_type": "code",
      "source": [
        "class A:\n",
        "  def __init__(self, a = 5, b = 8):\n",
        "    self.a = a\n",
        "    self.b = b\n",
        "\n",
        "  def c(self): \n",
        "    \"\"\"\n",
        "    Складывает первое и второе числа\n",
        "    \"\"\"\n",
        "    return self.a+self.b\n",
        "\n",
        "class B(A):\n",
        "  def __init__(self, a, b, d):\n",
        "    super().__init__(a, b)\n",
        "    self.d = d\n",
        "  \n",
        "  def c2(self):\n",
        "    if self.d > self.a and self.d > self.b:\n",
        "      return self.d * 3\n",
        "    elif self.d < self.a and self.d < self.b:\n",
        "      return self.a + self.b + self.d\n",
        "    else:\n",
        "      return self.a + self.b\n",
        "    \n",
        "\n",
        "a = A()\n",
        "print(a.c())\n",
        "b = B(5, 8, 12)\n",
        "print(b.c2())"
      ],
      "metadata": {
        "id": "d0St8GU3IRvX",
        "outputId": "9434c1a8-9b4d-4a9e-9483-4641cad3fe26",
        "colab": {
          "base_uri": "https://localhost:8080/"
        }
      },
      "execution_count": 26,
      "outputs": [
        {
          "output_type": "stream",
          "name": "stdout",
          "text": [
            "13\n",
            "36\n"
          ]
        }
      ]
    },
    {
      "cell_type": "markdown",
      "source": [
        "# Упражнения для всех вариантов "
      ],
      "metadata": {
        "id": "pmsNa4Wt91li"
      }
    },
    {
      "cell_type": "markdown",
      "source": [
        "1. Создайте класс «зарплата», который вычисляет сумму зарплаты в зависимости\n",
        "от тарифной ставки и числа отработанных дней. Расширьте метод начислением\n",
        "процентов в зависимости от объема продаж. "
      ],
      "metadata": {
        "id": "oihnJ1td-BQz"
      }
    },
    {
      "cell_type": "code",
      "source": [
        "class Salary():\n",
        "  salary = int(input(\"Введите заработную плату работника: \"))\n",
        "  work_days = int(input(\"Введите количество рабочих дней в месяце: \"))\n",
        "  fact_days = int(input(\"Введите количество фактически отработанных дней: \"))\n",
        "  volume_of_sales = int(input(\"Введите количество заключенных работником сделок: \"))\n",
        "  tariff_rate = 0\n",
        "\n",
        "  if volume_of_sales > 100:\n",
        "    tariff_rate = 0.2\n",
        "  else:\n",
        "    tariff_rate = 0.1\n",
        "\n",
        "  def result(self):\n",
        "    self.res = self.salary/self.work_days * self.fact_days \n",
        "    self.res += self.res * self.tariff_rate\n",
        "    return self.res\n",
        "  \n",
        "employee1 = Salary()\n",
        "employee1.result()"
      ],
      "metadata": {
        "id": "LveJEAwI-APB",
        "colab": {
          "base_uri": "https://localhost:8080/"
        },
        "outputId": "116ded66-4dad-4bc1-f706-2cca46131592"
      },
      "execution_count": null,
      "outputs": [
        {
          "name": "stdout",
          "output_type": "stream",
          "text": [
            "Введите заработную плату работника: 50000\n",
            "Введите количество рабочих дней в месяце: 25\n",
            "Введите количество фактически отработанных дней: 22\n",
            "Введите количество заключенных работником сделок: 110\n"
          ]
        },
        {
          "output_type": "execute_result",
          "data": {
            "text/plain": [
              "52800.0"
            ]
          },
          "metadata": {},
          "execution_count": 13
        }
      ]
    },
    {
      "cell_type": "markdown",
      "source": [
        "2. Переопределите метод начисления зарплаты: в случае, если объем продаж в\n",
        "месяц превысил 1 000 000, проценты добавляются к зарплате, в противном\n",
        "случае – вычитаются. "
      ],
      "metadata": {
        "id": "jUy9U5_R-F8h"
      }
    },
    {
      "cell_type": "code",
      "source": [
        "class Salary():\n",
        "  salary = int(input(\"Введите заработную плату работника: \"))\n",
        "  work_days = int(input(\"Введите количество рабочих дней в месяце: \"))\n",
        "  fact_days = int(input(\"Введите количество фактически отработанных дней: \"))\n",
        "  volume_of_sales = int(input(\"Введите количество заключенных работником сделок: \"))\n",
        "  tariff_rate = float(input(\"Введите тарифную ставку: \"))\n",
        "\n",
        "  def result(self):\n",
        "    self.res = self.salary/self.work_days * self.fact_days\n",
        "    if self.volume_of_sales > 1000000:\n",
        "      self.res += self.res * self.tariff_rate\n",
        "    else:\n",
        "      self.res -= self.res * self.tariff_rate\n",
        "    return self.res\n",
        "\n",
        "employee1 = Salary()\n",
        "employee1.result()"
      ],
      "metadata": {
        "colab": {
          "base_uri": "https://localhost:8080/"
        },
        "id": "UqBeLMHGMiCo",
        "outputId": "6911919a-3dea-4081-b15c-4c2684bfb06b"
      },
      "execution_count": null,
      "outputs": [
        {
          "name": "stdout",
          "output_type": "stream",
          "text": [
            "Введите заработную плату работника: 50000\n",
            "Введите количество рабочих дней в месяце: 25\n",
            "Введите количество фактически отработанных дней: 22\n",
            "Введите количество заключенных работником сделок: 800000\n",
            "Введите тарифную ставку: 0.1\n"
          ]
        },
        {
          "output_type": "execute_result",
          "data": {
            "text/plain": [
              "39600.0"
            ]
          },
          "metadata": {},
          "execution_count": 8
        }
      ]
    },
    {
      "cell_type": "markdown",
      "source": [
        "3. Создайте для класса «сотрудники» абстрактный метод начисления зарплаты.\n",
        "Создайте два класса-наследника: сотрудник отдела продаж и сотрудник склада.\n",
        "Для первого класса начисление происходит аналогично заданию 1, а для второго\n",
        "–в зависимости от количества отработанных дней. \n"
      ],
      "metadata": {
        "id": "uGB9XTaA-HCF"
      }
    },
    {
      "cell_type": "code",
      "source": [
        "class Employees:\n",
        "  salary = int(input(\"Введите заработную плату работника: \"))\n",
        "  work_days = int(input(\"Введите количество рабочих дней в месяце: \"))\n",
        "  fact_days = int(input(\"Введите количество фактически отработанных дней: \"))\n",
        "  volume_of_sales = int(input(\"Введите количество заключенных работником сделок: \"))\n",
        "  tariff_rate = 0\n",
        "  if volume_of_sales > 100:\n",
        "    tariff_rate = 0.2\n",
        "  else:\n",
        "    tariff_rate = 0.1\n",
        "  def employee_salary(self):\n",
        "      self.res = self.salary / self.work_days * self.fact_days \n",
        "      return self.res\n",
        "  \n",
        "class Sales_department_employee(Employees):\n",
        "  def result1(self): \n",
        "    self.result1 = self.res + self.res * self.tariff_rate\n",
        "    return self.result1\n",
        "\n",
        "class Warehouse_worker(Employees):\n",
        "  def result2(self):\n",
        "    self.result2 = self.res\n",
        "    return self.result2\n",
        "\n",
        "employee1 = Sales_department_employee()\n",
        "employee2 = Warehouse_worker()\n",
        "employee1.employee_salary()\n",
        "employee2.employee_salary()\n",
        "print(\"Зарплата сотрудника отдела продаж: \", employee1.result1())\n",
        "print(\"Зарплата сотрудника склада :\", employee2.result2())"
      ],
      "metadata": {
        "colab": {
          "base_uri": "https://localhost:8080/"
        },
        "id": "7DpKbwSo8Gmw",
        "outputId": "e4c03520-3649-44e5-939f-39d8db229f3c"
      },
      "execution_count": null,
      "outputs": [
        {
          "output_type": "stream",
          "name": "stdout",
          "text": [
            "Введите заработную плату работника: 50000\n",
            "Введите количество рабочих дней в месяце: 25\n",
            "Введите количество фактически отработанных дней: 22\n",
            "Введите количество заключенных работником сделок: 80000\n",
            "Зарплата сотрудника отдела продаж:  52800.0\n",
            "Зарплата сотрудника склада : 44000.0\n"
          ]
        }
      ]
    },
    {
      "cell_type": "markdown",
      "source": [
        "4. Решите предыдущую задачу, используя декоратор @abstractmethod."
      ],
      "metadata": {
        "id": "hLGghF8t6dVl"
      }
    },
    {
      "cell_type": "code",
      "source": [
        "from abc import ABC, abstractmethod\n",
        "class Employees(ABC):\n",
        "  def __init__(self, salary, work_days, fact_days, volume_of_sales):\n",
        "    self.salary = salary\n",
        "    self.work_days = work_days\n",
        "    self.fact_days = fact_days\n",
        "    self.volume_of_sales = volume_of_sales\n",
        "    if volume_of_sales > 100:\n",
        "      self.tariff_rate = 0.2\n",
        "    else:\n",
        "      self.tariff_rate = 0.1\n",
        "  \n",
        "  @abstractmethod\n",
        "  def result1(self):\n",
        "    pass\n",
        "\n",
        "  @abstractmethod\n",
        "  def result2(self): \n",
        "    pass\n",
        "\n",
        "class Different_Employees(Employees): \n",
        "  def result1(self):\n",
        "    self.res = self.salary/self.work_days * self.fact_days \n",
        "    self.res += self.res * self.tariff_rate\n",
        "    return self.res\n",
        "\n",
        "  def result2(self):\n",
        "    self.res = self.salary / self.work_days * self.fact_days \n",
        "    return self.res\n",
        "\n",
        "employee1 = Different_Employees(50000, 25, 22, 110)\n",
        "print(\"Зарплата сотрудника отдела продаж: \", employee1.result1()) \n",
        "employee2 = Different_Employees(50000, 25, 22, 110)\n",
        "print(\"Зарплата сотрудника склада: \", employee2.result2())"
      ],
      "metadata": {
        "colab": {
          "base_uri": "https://localhost:8080/"
        },
        "id": "QOeW-_0oarAK",
        "outputId": "ccf2630f-e2eb-4964-c2a3-bf3ac67994cb"
      },
      "execution_count": null,
      "outputs": [
        {
          "output_type": "stream",
          "name": "stdout",
          "text": [
            "Зарплата сотрудника отдела продаж:  52800.0\n",
            "Зарплата сотрудника склада:  44000.0\n"
          ]
        }
      ]
    },
    {
      "cell_type": "markdown",
      "source": [
        "5. Имеется класс «мебель». Создайте класс «корпусная мебель», «мягкая мебель»\n",
        "и «кухонная мебель». Определите атрибуты и методы родительского класса и\n",
        "классов-наследников. \n"
      ],
      "metadata": {
        "id": "cQBg03dD-Wax"
      }
    },
    {
      "cell_type": "code",
      "source": [
        "class Furniture:\n",
        "  def __init__(self, types_of_furniture):\n",
        "    self.types_of_furniture = types_of_furniture\n",
        "\n",
        "  def presence(self):\n",
        "    print(\"В наличии есть:\")\n",
        "\n",
        "class Cabinet_furniture(Furniture):\n",
        "  def information(self):\n",
        "    return \"{} разных ценовых сегментов\".format(self.types_of_furniture)\n",
        "\n",
        "class Soft_furniture(Furniture):\n",
        "  def information(self):\n",
        "    return \"различные {}\".format(self.types_of_furniture)\n",
        "\n",
        "class Kitchen_furniture(Furniture):\n",
        "  def information(self):\n",
        "    return \"{} всех цветов\".format(self.types_of_furniture)\n",
        "\n",
        "a = Cabinet_furniture(\"шкафы, полки, комоды\")\n",
        "a.presence()\n",
        "b = Soft_furniture(\"диваны, кресла, пуфики\")\n",
        "c = Kitchen_furniture(\"гарнитуры\")\n",
        "print(a.information())\n",
        "print(b.information())\n",
        "print(c.information())"
      ],
      "metadata": {
        "id": "vX36H6jCWmUu",
        "colab": {
          "base_uri": "https://localhost:8080/"
        },
        "outputId": "1e6248ac-1e83-4b1e-cbdd-a1440d09a398"
      },
      "execution_count": null,
      "outputs": [
        {
          "output_type": "stream",
          "name": "stdout",
          "text": [
            "В наличии есть:\n",
            "шкафы, полки, комоды разных ценовых сегментов\n",
            "различные диваны, кресла, пуфики\n",
            "гарнитуры всех цветов\n"
          ]
        }
      ]
    },
    {
      "cell_type": "markdown",
      "source": [
        "6. Создайте приложение, в котором необходимо разработать базовый класс man.\n",
        "Объекты этого класса содержат справочную информацию о конкретном\n",
        "человеке (фамилию, инициалы, телефон, адрес, возраст). Создайте два\n",
        "производных от него класса: manager и secretary. Объекты\n",
        "класса manager дополнительно включают номер отдела и количество\n",
        "подчиненных. Объекты класса secretary дополнительно включают фамилию\n",
        "начальника. Данные о менеджерах и секретарях введите с клавиатуры и выведите\n",
        "на экран дисплея. "
      ],
      "metadata": {
        "id": "yCYKkcow-ZGc"
      }
    },
    {
      "cell_type": "code",
      "source": [
        "class Man:\n",
        "  def __init__(self, surname, initials, phone_number, address, age):\n",
        "    self.surname = input(\"Введите фамилию:\")\n",
        "    self.initials = input(\"Введите инициалы: \")\n",
        "    self.phone_number = input(\"Введите номер телефона: \")\n",
        "    self.address = input(\"Введите адрес: \")\n",
        "    self.age = input(\"Введите возраст: \")\n",
        "\n",
        "class Manager(Man):\n",
        "  def __init__(self, surname, initials, phone_number, address, age, department_number, number_of_subordinates):\n",
        "    super().__init__(surname, initials, phone_number, address, age)\n",
        "    self.department_number = department_number\n",
        "    self.number_of_subordinates = number_of_subordinates\n",
        "\n",
        "class Secretary(Man):\n",
        "  def __init__(self, surname, initials, phone_number, address, age, surname_of_the_chief):\n",
        "    super().__init__(surname, initials, phone_number, address, age)\n",
        "    self.surname_of_the_chief = surname_of_the_chief\n",
        "\n",
        "department_number = input(\"Введите номер отдела: \")\n",
        "number_of_subordinates = input(\"Введите количество подчиненных: \")\n",
        "surname_of_the_chief = input(\"Введите фамилию начальника:\")\n",
        "a = Manager(surname, initials, phone_number, address, age, department_number, number_of_subordinates)\n",
        "print(a.__dict__)\n",
        "b = Secretary(surname, initials, phone_number, address, age, surname_of_the_chief)\n",
        "print(b.__dict__)"
      ],
      "metadata": {
        "id": "PRbLi53vGkum",
        "outputId": "62d4fe8f-95f9-4422-96b0-ede8ac8c2f1c",
        "colab": {
          "base_uri": "https://localhost:8080/"
        }
      },
      "execution_count": null,
      "outputs": [
        {
          "output_type": "stream",
          "name": "stdout",
          "text": [
            "Введите номер отдела: 5\n",
            "Введите количество подчиненных: 10\n",
            "Введите фамилию начальника:Соколов\n",
            "Введите фамилию:Короленко\n",
            "Введите инициалы: Д.Д.\n",
            "Введите номер телефона: 8932675765\n",
            "Введите адрес: Чистяковой 2\n",
            "Введите возраст: 28\n",
            "{'surname': 'Короленко', 'initials': 'Д.Д.', 'phone_number': '8932675765', 'address': 'Чистяковой 2', 'age': '28', 'department_number': '5', 'number_of_subordinates': '10'}\n",
            "Введите фамилию:Ложкин\n",
            "Введите инициалы: Е.Х.\n",
            "Введите номер телефона: 892365566\n",
            "Введите адрес: Кутузовская 21\n",
            "Введите возраст: 30\n",
            "{'surname': 'Ложкин', 'initials': 'Е.Х.', 'phone_number': '892365566', 'address': 'Кутузовская 21', 'age': '30', 'surname_of_the_chief': 'Соколов'}\n"
          ]
        }
      ]
    },
    {
      "cell_type": "markdown",
      "source": [
        "7. Разработайте приложение, в котором опишите базовый класс building. Он\n",
        "хранит этаж, число комнат в квартире, общую площадь квартиры. Три\n",
        "производных класса house-k, house-p, house-m наследуют класс building. Каждый\n",
        "из них хранит надбавку к цене квадратного метра площади, зависящую от\n",
        "материала дома. Производный класс office наследует производные классы housek, house-p, house-m и хранит наличие лоджии и надбавку, связанную с районом\n",
        "города. Вывести на экран стоимость конкретной квартиры. \n"
      ],
      "metadata": {
        "id": "A6m1ggOJ-cR2"
      }
    },
    {
      "cell_type": "code",
      "source": [
        "class Building:\n",
        "  def __init__(self, floor, number_of_rooms, total_area, starting_price):\n",
        "    self.floor = floor\n",
        "    self.number_of_room = number_of_rooms\n",
        "    self.total_area = total_area\n",
        "    self.starting_price = starting_price\n",
        "\n",
        "class House_k(Building):\n",
        "  def __init__(self, floor, number_of_rooms, total_area, starting_price, material_allowance = 0.1):\n",
        "    super().__init__(floor, number_of_rooms, total_area, starting_price)\n",
        "    self.material_allowance = material_allowance\n",
        "\n",
        "  def new_price(self):\n",
        "    price = self.starting_price + self.starting_price * self.material_allowance\n",
        "    return price\n",
        "\n",
        "class House_p(Building):\n",
        "  def __init__(self, floor, number_of_rooms, total_area, starting_price, material_allowance = 0.15):\n",
        "    super().__init__(floor, number_of_rooms, total_area, starting_price)\n",
        "    self.material_allowance = material_allowance\n",
        "\n",
        "  def new_price(self):\n",
        "    price = self.starting_price + self.starting_price * self.material_allowance\n",
        "    return price\n",
        "\n",
        "class House_m(Building):\n",
        "  def __init__(self, floor, number_of_rooms, total_area, starting_price, material_allowance = 0.2):\n",
        "    super().__init__(floor, number_of_rooms, total_area, starting_price)\n",
        "    self.material_allowance = material_allowance\n",
        "\n",
        "  def new_price(self):\n",
        "    price = self.starting_price + self.starting_price * self.material_allowance\n",
        "    return price\n",
        "\n",
        "class Office(House_k, House_p, House_m):\n",
        "  def __init__(self, floor, number_of_rooms, total_area, starting_price, material_allowance, district, presence_of_loggia):\n",
        "    super().__init__(floor, number_of_rooms, total_area, starting_price, material_allowance)\n",
        "    self.district = district\n",
        "    self.presence_of_loggia = presence_of_loggia\n",
        "\n",
        "  def new_price2(self):\n",
        "    if self.district == \"Богатый\":\n",
        "      price = self.starting_price + self.starting_price * self.material_allowance + 2000000\n",
        "      return price\n",
        "    elif self.district == \"Хороший\":\n",
        "      price = self.starting_price + self.starting_price * self.material_allowance + 1000000\n",
        "      return price\n",
        "    else:\n",
        "      price = self.starting_price + self.starting_price * self.material_allowance\n",
        "      return price\n",
        "\n",
        "flat1 = Office(9, 3, 90, 10000000, 0.15, \"Хороший\", \"Нет\")\n",
        "print(\"Цена первой квартиры:\", flat1.new_price2())\n",
        "flat2 = Office(5, 2, 48, 6000000, 0.2, \"Богатый\", \"Есть\")\n",
        "print(\"Цена второй квартиры:\", flat2.new_price2())"
      ],
      "metadata": {
        "id": "Xz9J7lj4Y_bH",
        "outputId": "04a14bdd-cf0e-41de-9cad-a4af28fb89fd",
        "colab": {
          "base_uri": "https://localhost:8080/"
        }
      },
      "execution_count": null,
      "outputs": [
        {
          "output_type": "stream",
          "name": "stdout",
          "text": [
            "Цена первой квартиры: 12500000.0\n",
            "Цена второй квартиры: 9200000.0\n"
          ]
        }
      ]
    },
    {
      "cell_type": "markdown",
      "source": [
        "8. В программе рассчитываются площади треугольника и прямоугольника. С\n",
        "этой целью создается абстрактный класс area, в котором сохраняются две\n",
        "размерности фигуры. В производных классах задайте вид конкретных фигур и\n",
        "возвратите их площади. "
      ],
      "metadata": {
        "id": "v6xDa2Et-flj"
      }
    },
    {
      "cell_type": "code",
      "source": [
        "class Area:\n",
        "  def __init__(self, a, b):\n",
        "    self.a = a\n",
        "    self.b = b\n",
        "\n",
        "class Triangle(Area):\n",
        "  def square_t(self):\n",
        "    triangle_square = (1/2) * self.a * self.b \n",
        "    return \"Площадь треугольника: {}\".format(triangle_square)   # нахождение площади по формуле: произведение половины основания на высоту\n",
        "\n",
        "class Rectangle(Area):\n",
        "  def square_r(self):\n",
        "    rectangle_square = self.a * self.b\n",
        "    return \"Площадь прямоугольника {}\".format(rectangle_square)\n",
        "\n",
        "a = Triangle(12, 7)\n",
        "print(a.square_t())\n",
        "b = Rectangle(6, 8)\n",
        "print(b.square_r())"
      ],
      "metadata": {
        "id": "ErUMQBp8hBRM",
        "outputId": "2440d2d4-9389-409b-9c38-c757ff4e68cd",
        "colab": {
          "base_uri": "https://localhost:8080/"
        }
      },
      "execution_count": null,
      "outputs": [
        {
          "output_type": "stream",
          "name": "stdout",
          "text": [
            "Площадь треугольника: 42.0\n",
            "Площадь прямоугольника 48\n"
          ]
        }
      ]
    }
  ]
}