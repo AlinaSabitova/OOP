{
  "nbformat": 4,
  "nbformat_minor": 0,
  "metadata": {
    "colab": {
      "provenance": [],
      "authorship_tag": "ABX9TyMzJCcpvyUJBoErtH2/IPB9",
      "include_colab_link": true
    },
    "kernelspec": {
      "name": "python3",
      "display_name": "Python 3"
    },
    "language_info": {
      "name": "python"
    }
  },
  "cells": [
    {
      "cell_type": "markdown",
      "metadata": {
        "id": "view-in-github",
        "colab_type": "text"
      },
      "source": [
        "<a href=\"https://colab.research.google.com/github/AlinaSabitova/OOP/blob/main/%D0%98%D0%BD%D0%B4_%D0%B7%D0%B0%D0%B4%D0%B0%D0%BD%D0%B8%D0%B52.ipynb\" target=\"_parent\"><img src=\"https://colab.research.google.com/assets/colab-badge.svg\" alt=\"Open In Colab\"/></a>"
      ]
    },
    {
      "cell_type": "code",
      "execution_count": 31,
      "metadata": {
        "colab": {
          "base_uri": "https://localhost:8080/"
        },
        "id": "wdELhtAGUJQH",
        "outputId": "0a0acf86-00d3-431a-c0a7-c3cacd5399fc"
      },
      "outputs": [
        {
          "output_type": "stream",
          "name": "stdout",
          "text": [
            "Общий вес животных равен 886 кг \n",
            "Максимальный вес 720 кг\n"
          ]
        }
      ],
      "source": [
        "class Animals:\n",
        "  def __init__(self, name, weight, voice, need_amount_of_food, fact_amount_of_food, need_amount_of_water, fact_amount_of_water):\n",
        "    self.name = name\n",
        "    self.weight = weight\n",
        "    self.voice = voice\n",
        "    self.need_amount_of_food = need_amount_of_food\n",
        "    self.fact_amount_of_water = fact_amount_of_water\n",
        "    self.fact_amount_of_food = fact_amount_of_food\n",
        "    self.need_amount_of_water = need_amount_of_water\n",
        "  \n",
        "  def eating(self):\n",
        "    if self.fact_amount_of_food >= self.need_amount_of_food:\n",
        "      return \"{} сыты\".format(self.name)\n",
        "    else:\n",
        "      return \"{} остались голодные\".format(self.name)\n",
        "\n",
        "  def drinking(self):\n",
        "    if self.fact_amount_of_water >= self.need_amount_of_water:\n",
        "      return \"{} получили достаточно воды\".format(self.name)\n",
        "    else:\n",
        "      return \"{} получили мало воды\".format(self.name)\n",
        "\n",
        "class Geese(Animals):\n",
        "  def collect_goose_eggs(self):\n",
        "    self.eggs = 2\n",
        "    self.quantity = 2\n",
        "    self.number_of_eggs = self.eggs * self.quantity\n",
        "    return \"Мы получили {} яиц\".format(self.number_of_eggs)\n",
        "\n",
        "class Cow(Animals):\n",
        "  def milking_cows(self):\n",
        "    self.liters = 10\n",
        "    self.quantity = 1\n",
        "    self.milk_volume = self.litres * quantity\n",
        "    return \"Мы получили {} литров молока\".format(self.milk_volume)\n",
        "\n",
        "class Sheeps(Animals):\n",
        "  def shear_sheep(self):\n",
        "    self.kg = 3\n",
        "    self.quantity = 2\n",
        "    wool_volume = self.kg * self.quantity\n",
        "    return \"Мы получили {} кг шерсти\"\n",
        "\n",
        "class Chickens(Animals):\n",
        "  def collect_chicken_eggs(self):\n",
        "    self.eggs = 3\n",
        "    self.quantity = 2\n",
        "    self.number_of_eggs = self.eggs * self.quantity\n",
        "    return \"Мы получили {} яиц\".format(self.number_of_eggs)\n",
        "\n",
        "class Goats(Animals):\n",
        "  def milk_a_goat(self):\n",
        "    self.liters = 5\n",
        "    self.quantity = 2\n",
        "    self.milk_volume = self.litres * quantity\n",
        "    return \"Мы получили {} литров молока\".format(self.milk_volume)\n",
        "\n",
        "class Duck(Animals):\n",
        "  def collect_duck_eggs(self):\n",
        "    self.eggs = 1\n",
        "    self.quantity = 1\n",
        "    self.number_of_eggs = self.eggs * self.quantity\n",
        "    return \"Мы получили {} яиц\".format(self.number_of_eggs)\n",
        "\n",
        "goose1 = Geese(\"Серый\", 3, \"гагага\", 2, 2.5, 1.5, 2)\n",
        "goose2 = Geese(\"Белый\", 3, \"гагага\", 2, 2.5, 1.5, 2)\n",
        "cow = Cow(\"Манька\", 720, \"муу\", 10, 10, 5, 7)\n",
        "sheep1 = Sheeps(\"Барашек\", 50, \"бее\", 8, 7, 4, 5)\n",
        "sheep2 = Sheeps(\"Кудрявый\", 60, \"бее\", 8, 7, 4, 5)\n",
        "chicken1 = Chickens(\"Ко-ко\", 3, \"кококо\", 2, 2.5, 1.5, 2)\n",
        "chicken2 = Chickens(\"Кукареку\", 3, \"кококо\", 2, 2.5, 1.5, 2)\n",
        "goat1 = Goats(\"Рога\", 25, \"мее\", 6, 8, 3, 2)\n",
        "goat2 = Goats(\"Копыта\", 23, \"мее\", 6, 8, 3, 2)\n",
        "duck = Duck(\"Кряква\", 5, \"кря\", 4, 4, 3, 5)\n",
        "\n",
        "animal_weight = {goose1.weight, goose2.weight, cow.weight, sheep1.weight, sheep2.weight, chicken1.weight, chicken2.weight, goat1.weight, goat2.weight, duck.weight}\n",
        "all_weight = sum(animal_weight)\n",
        "print(\"Общий вес животных равен {} кг \".format(all_weight))\n",
        "max_weight = max(animal_weight)\n",
        "print(\"Максимальный вес {} кг\".format(max_weight))"
      ]
    }
  ]
}