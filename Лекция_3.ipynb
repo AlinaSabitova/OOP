{
  "nbformat": 4,
  "nbformat_minor": 0,
  "metadata": {
    "colab": {
      "provenance": [],
      "authorship_tag": "ABX9TyOpSbVrRoJmJY+F48aqUoYF",
      "include_colab_link": true
    },
    "kernelspec": {
      "name": "python3",
      "display_name": "Python 3"
    },
    "language_info": {
      "name": "python"
    }
  },
  "cells": [
    {
      "cell_type": "markdown",
      "metadata": {
        "id": "view-in-github",
        "colab_type": "text"
      },
      "source": [
        "<a href=\"https://colab.research.google.com/github/AlinaSabitova/OOP/blob/main/%D0%9B%D0%B5%D0%BA%D1%86%D0%B8%D1%8F_3.ipynb\" target=\"_parent\"><img src=\"https://colab.research.google.com/assets/colab-badge.svg\" alt=\"Open In Colab\"/></a>"
      ]
    },
    {
      "cell_type": "markdown",
      "source": [
        "# Инкапсуляция"
      ],
      "metadata": {
        "id": "I-rnB9FhgYl3"
      }
    },
    {
      "cell_type": "markdown",
      "source": [
        "Под инкапсуляцией в объектно-ориентированном программировании\n",
        "понимается упаковка данных и методов для их обработки вместе, т. е. в классе.\n",
        "В Python инкапсуляция реализуется как на уровне классов, так и объектов. В ряде\n",
        "других языков, например в Java, под инкапсуляцией также понимают сокрытие\n",
        "свойств и методов, в результате чего они становятся приватными. Это значит,\n",
        "что доступ к ним ограничен либо пределами класса, либо модуля. В Python\n",
        "подобной инкапсуляции нет, хотя существует способ ее имитировать. "
      ],
      "metadata": {
        "id": "VUG5PKdigIvX"
      }
    },
    {
      "cell_type": "markdown",
      "source": [
        "Зачем нужна инкапсуляция? Дело\n",
        "в том, что классы бывают большими и сложными. В них может быть множество\n",
        "вспомогательных полей и методов, которые не должны использоваться за его\n",
        "пределами. Они просто для этого не предназначены.\n"
      ],
      "metadata": {
        "id": "YRvj3OxGgtLM"
      }
    },
    {
      "cell_type": "markdown",
      "source": [
        "С точки зрения разграничения доступа к атрибутам класса Python является\n",
        "особенным языком - в нем отсутствует механизм, который мог бы запретить\n",
        "доступ к переменной или методу внутри класса. Вместо этого создатели Python\n",
        "предложили соглашение, в соответствии с которым:\n",
        "- Если переменная/метод начинается с одного нижнего подчеркивания\n",
        "(_protected_example), то – считается защищенным (protected).\n",
        "- Если переменная/метод начинается с двух нижних подчеркиваний\n",
        "(__private_example), то – считается приватным (private). \n",
        "Все члены класса в Python являются публичными по умолчанию. Любой\n",
        "член класса может быть доступен за пределами самого класса.\n"
      ],
      "metadata": {
        "id": "1FUf2iDjhC3i"
      }
    },
    {
      "cell_type": "markdown",
      "source": [
        "Рассмотрим\n",
        "пример создания и работы с публичными (public) методами в Python: \n"
      ],
      "metadata": {
        "id": "29Kw4r29hXPU"
      }
    },
    {
      "cell_type": "code",
      "execution_count": 3,
      "metadata": {
        "colab": {
          "base_uri": "https://localhost:8080/"
        },
        "id": "ay7B2uC4Tow4",
        "outputId": "ce2cb2f1-baaf-42be-b909-055bd8ca162b"
      },
      "outputs": [
        {
          "output_type": "stream",
          "name": "stdout",
          "text": [
            "Grey\n",
            "Red\n"
          ]
        }
      ],
      "source": [
        "class Car:\n",
        " def __init__(self, color):\n",
        "# Объявляем публичное поле color\n",
        "    self.color = color\n",
        "# Создаем экземпляр класса Car\n",
        "car = Car('Grey')\n",
        "# Обращаемся к свойству color\n",
        "print(car.color)\n",
        "# Изменяем свойство color\n",
        "car.color = 'Red'\n",
        "print(car.color)"
      ]
    },
    {
      "cell_type": "markdown",
      "source": [
        "В соответствии с соглашением чтобы сделать атрибут класса защищенным\n",
        "(protected), необходимо добавить к имени символ подчеркивания _ . Но в Python такой атрибут все равно будет доступен снаружи класса.\n",
        "Возможно выполнить операции, которые рассмотрены выше. Это задача программиста – он не должен работать с атрибутами, имена\n",
        "которых начинаются с нижнего подчёркивания _ , снаружи класса. \n"
      ],
      "metadata": {
        "id": "QZtAwnyLhsyy"
      }
    },
    {
      "cell_type": "code",
      "source": [
        "class Car:\n",
        " def __init__(self, color):\n",
        "  self._color = color\n",
        "# Создаем экземпляр класса Car\n",
        "car = Car('Grey')\n",
        "# Обращаемся к свойству color\n",
        "print(car._color)\n",
        "# Изменяем свойство color\n",
        "car._color = 'Red'\n",
        "print(car._color)"
      ],
      "metadata": {
        "colab": {
          "base_uri": "https://localhost:8080/"
        },
        "id": "-SQfY0wActXo",
        "outputId": "43a47f13-6a61-4480-bb36-d3996981a03d"
      },
      "execution_count": 4,
      "outputs": [
        {
          "output_type": "stream",
          "name": "stdout",
          "text": [
            "Grey\n",
            "Red\n"
          ]
        }
      ]
    },
    {
      "cell_type": "markdown",
      "source": [
        "Часто намеренно скрываются поля самого класса, а не его объектов.\n",
        "Например, если класс имеет счетчик своих объектов, то необходимо исключить\n",
        "возможность его случайного изменения из вне. Рассмотрим пример с таким\n",
        "счетчиком на языке Python:"
      ],
      "metadata": {
        "id": "s5qYx_Bnh-pb"
      }
    },
    {
      "cell_type": "code",
      "source": [
        "class B:\n",
        "  count = 0\n",
        "  def __init__(self):\n",
        "    B.count += 1\n",
        "  def __del__(self):\n",
        "    B.count -= 1\n",
        "\n",
        "a = B()\n",
        "b = B()\n",
        "print(B.count) # выведет 2\n",
        "del a\n",
        "print(B.count) # выведет 1\n",
        "print(B.count - 1) # выведет 0"
      ],
      "metadata": {
        "colab": {
          "base_uri": "https://localhost:8080/"
        },
        "id": "q4Ooc5QIc5eo",
        "outputId": "5356eec4-487f-46d0-fc22-213e400b6ff2"
      },
      "execution_count": 7,
      "outputs": [
        {
          "output_type": "stream",
          "name": "stdout",
          "text": [
            "2\n",
            "1\n",
            "0\n"
          ]
        }
      ]
    },
    {
      "cell_type": "markdown",
      "source": [
        "Для имитации сокрытия атрибутов в Python используется соглашение – это\n",
        "не синтаксическое правило языка, при желании его можно нарушить, согласно\n",
        "которому, если поле или метод имеют два знака подчеркивания впереди имени,\n",
        "но не сзади, то этот атрибут предусмотрен исключительно для внутреннего\n",
        "пользования. "
      ],
      "metadata": {
        "id": "mQgO0sCXiPTp"
      }
    },
    {
      "cell_type": "code",
      "source": [
        "class B:\n",
        "  __count = 0\n",
        "  def __init__(self):\n",
        "    B.__count += 1\n",
        "  def __del__(self):\n",
        "    B.__count -= 1\n",
        "\n",
        "a = B()\n",
        "print(B.__count)\n",
        "\n",
        "# выведет ошибку"
      ],
      "metadata": {
        "colab": {
          "base_uri": "https://localhost:8080/",
          "height": 235
        },
        "id": "AZsJC_vZddST",
        "outputId": "6edb1007-11ac-41a0-812d-23d7960f9865"
      },
      "execution_count": 18,
      "outputs": [
        {
          "output_type": "error",
          "ename": "AttributeError",
          "evalue": "ignored",
          "traceback": [
            "\u001b[0;31m---------------------------------------------------------------------------\u001b[0m",
            "\u001b[0;31mAttributeError\u001b[0m                            Traceback (most recent call last)",
            "\u001b[0;32m<ipython-input-18-e7b6a77950bd>\u001b[0m in \u001b[0;36m<cell line: 9>\u001b[0;34m()\u001b[0m\n\u001b[1;32m      7\u001b[0m \u001b[0;34m\u001b[0m\u001b[0m\n\u001b[1;32m      8\u001b[0m \u001b[0ma\u001b[0m \u001b[0;34m=\u001b[0m \u001b[0mB\u001b[0m\u001b[0;34m(\u001b[0m\u001b[0;34m)\u001b[0m\u001b[0;34m\u001b[0m\u001b[0;34m\u001b[0m\u001b[0m\n\u001b[0;32m----> 9\u001b[0;31m \u001b[0mprint\u001b[0m\u001b[0;34m(\u001b[0m\u001b[0mB\u001b[0m\u001b[0;34m.\u001b[0m\u001b[0m__count\u001b[0m\u001b[0;34m)\u001b[0m\u001b[0;34m\u001b[0m\u001b[0;34m\u001b[0m\u001b[0m\n\u001b[0m\u001b[1;32m     10\u001b[0m \u001b[0;34m\u001b[0m\u001b[0m\n\u001b[1;32m     11\u001b[0m \u001b[0;31m# выведет ошибку\u001b[0m\u001b[0;34m\u001b[0m\u001b[0;34m\u001b[0m\u001b[0m\n",
            "\u001b[0;31mAttributeError\u001b[0m: type object 'B' has no attribute '__count'"
          ]
        }
      ]
    },
    {
      "cell_type": "markdown",
      "source": [
        "Программа выводит ошибку, так как атрибут __count за пределами класса становится невидимым. Понятно, если не можем даже получить\n",
        "значение поля за пределами класса, то присвоить ему значение – тем более. На\n",
        "самом деле сокрытие в Python не настоящее и доступ к счетчику получить все же\n",
        "можем. Но для этого надо написать B._B__count. \n"
      ],
      "metadata": {
        "id": "jPd6l-udib87"
      }
    },
    {
      "cell_type": "code",
      "source": [
        "print(B._B__count) "
      ],
      "metadata": {
        "colab": {
          "base_uri": "https://localhost:8080/"
        },
        "id": "zky6K4s0d_MR",
        "outputId": "c4c3ff5a-ebc8-4eda-f992-e4b5a8fca35e"
      },
      "execution_count": 10,
      "outputs": [
        {
          "output_type": "stream",
          "name": "stdout",
          "text": [
            "1\n"
          ]
        }
      ]
    },
    {
      "cell_type": "markdown",
      "source": [
        "Таково соглашение. Если в классе есть атрибут с двумя первыми\n",
        "подчеркиваниями, то для доступа извне к имени атрибута добавляется имя\n",
        "класса с одним впереди стоящим подчеркиванием. В результате атрибут как он\n",
        "есть в данном случае __count оказывается замаскированным. Вне класса такого\n",
        "атрибута просто не существует. Наличие двух подчеркиваний перед атрибутом\n",
        "должно сигнализировать, что трогать его вне класса не стоит вообще, даже через\n",
        "B.__count, разве что при крайней необходимости. Хорошо, мы защитили поле от\n",
        "случайных изменений. Но как теперь получить его значение? Сделать это можно\n",
        "с помощью добавления метода/"
      ],
      "metadata": {
        "id": "qRzzGNj1iu1R"
      }
    },
    {
      "cell_type": "code",
      "source": [
        "class B:\n",
        "  __count = 0\n",
        "  def __init__(self):\n",
        "    B.__count += 1\n",
        "  def __del__(self):\n",
        "    B.__count -= 1\n",
        "  def qtyObject():\n",
        "    return B.__count\n",
        "\n",
        "a = B()\n",
        "b = B()\n",
        "print(B.qtyObject()) # будет выведено 2"
      ],
      "metadata": {
        "colab": {
          "base_uri": "https://localhost:8080/"
        },
        "id": "M-fbvF7tecoB",
        "outputId": "2f9436ce-4a54-4659-95d5-0fd5cd55fa6a"
      },
      "execution_count": 11,
      "outputs": [
        {
          "output_type": "stream",
          "name": "stdout",
          "text": [
            "2\n"
          ]
        },
        {
          "output_type": "stream",
          "name": "stderr",
          "text": [
            "Exception ignored in: <function B.__del__ at 0x7f7baf18f0d0>\n",
            "Traceback (most recent call last):\n",
            "  File \"<ipython-input-7-1621ea74ca68>\", line 6, in __del__\n",
            "AttributeError: type object 'B' has no attribute 'count'\n"
          ]
        }
      ]
    },
    {
      "cell_type": "markdown",
      "source": [
        "В данном случае метод qtyObject()) не принимает объект (нет self), поэтому\n",
        "вызывать его надо через класс. То же самое с методами. Их можно сделать\n",
        "\"приватными\" с помощью двойного подчеркивания. "
      ],
      "metadata": {
        "id": "E6bu1FKgjcjS"
      }
    },
    {
      "cell_type": "code",
      "source": [
        "class DoubleList:\n",
        "  def __init__(self, l):\n",
        "    self.double = DoubleList.__makeDouble(l)\n",
        "  def __makeDouble(old):\n",
        "    new = []\n",
        "    for i in old:\n",
        "      new.append(i)\n",
        "      new.append(i)\n",
        "    return new\n",
        "\n",
        "nums = DoubleList([1, 3, 4, 6, 12])\n",
        "print(nums.double)\n",
        "print(DoubleList.__makeDouble([1,2]))\n",
        "\n",
        "# выведет ошибку"
      ],
      "metadata": {
        "colab": {
          "base_uri": "https://localhost:8080/",
          "height": 252
        },
        "id": "8iQNuJDye17U",
        "outputId": "3cfddd0a-5995-43f9-f60f-68cb2feb335d"
      },
      "execution_count": 17,
      "outputs": [
        {
          "output_type": "stream",
          "name": "stdout",
          "text": [
            "[1, 1, 3, 3, 4, 4, 6, 6, 12, 12]\n"
          ]
        },
        {
          "output_type": "error",
          "ename": "AttributeError",
          "evalue": "ignored",
          "traceback": [
            "\u001b[0;31m---------------------------------------------------------------------------\u001b[0m",
            "\u001b[0;31mAttributeError\u001b[0m                            Traceback (most recent call last)",
            "\u001b[0;32m<ipython-input-17-5736cd6b6062>\u001b[0m in \u001b[0;36m<cell line: 13>\u001b[0;34m()\u001b[0m\n\u001b[1;32m     11\u001b[0m \u001b[0mnums\u001b[0m \u001b[0;34m=\u001b[0m \u001b[0mDoubleList\u001b[0m\u001b[0;34m(\u001b[0m\u001b[0;34m[\u001b[0m\u001b[0;36m1\u001b[0m\u001b[0;34m,\u001b[0m \u001b[0;36m3\u001b[0m\u001b[0;34m,\u001b[0m \u001b[0;36m4\u001b[0m\u001b[0;34m,\u001b[0m \u001b[0;36m6\u001b[0m\u001b[0;34m,\u001b[0m \u001b[0;36m12\u001b[0m\u001b[0;34m]\u001b[0m\u001b[0;34m)\u001b[0m\u001b[0;34m\u001b[0m\u001b[0;34m\u001b[0m\u001b[0m\n\u001b[1;32m     12\u001b[0m \u001b[0mprint\u001b[0m\u001b[0;34m(\u001b[0m\u001b[0mnums\u001b[0m\u001b[0;34m.\u001b[0m\u001b[0mdouble\u001b[0m\u001b[0;34m)\u001b[0m\u001b[0;34m\u001b[0m\u001b[0;34m\u001b[0m\u001b[0m\n\u001b[0;32m---> 13\u001b[0;31m \u001b[0mprint\u001b[0m\u001b[0;34m(\u001b[0m\u001b[0mDoubleList\u001b[0m\u001b[0;34m.\u001b[0m\u001b[0m__makeDouble\u001b[0m\u001b[0;34m(\u001b[0m\u001b[0;34m[\u001b[0m\u001b[0;36m1\u001b[0m\u001b[0;34m,\u001b[0m\u001b[0;36m2\u001b[0m\u001b[0;34m]\u001b[0m\u001b[0;34m)\u001b[0m\u001b[0;34m)\u001b[0m\u001b[0;34m\u001b[0m\u001b[0;34m\u001b[0m\u001b[0m\n\u001b[0m\u001b[1;32m     14\u001b[0m \u001b[0;34m\u001b[0m\u001b[0m\n\u001b[1;32m     15\u001b[0m \u001b[0;31m# выведет ошибку\u001b[0m\u001b[0;34m\u001b[0m\u001b[0;34m\u001b[0m\u001b[0m\n",
            "\u001b[0;31mAttributeError\u001b[0m: type object 'DoubleList' has no attribute '__makeDouble'"
          ]
        }
      ]
    },
    {
      "cell_type": "markdown",
      "source": [
        "Подведя итоги, можно сказать следующее:\n",
        "- существует три уровня доступа к свойствам/методам класса: public,\n",
        "protected, private;\n",
        "- физически данный механизм ограничения доступа к атрибутам класса в\n",
        "Python реализован слабо, что от части может противоречить одному из главных\n",
        "принципов ООП - инкапсуляции.\n",
        "- существует некоторое соглашение, по которому в Python задать уровень\n",
        "доступа к свойству/методу класса можно с помощью добавления к имени одного\n",
        "(protected) или двух (private) подчеркиваний. Ответственность за соблюдение\n",
        "данного соглашения ложится на плечи программистов. "
      ],
      "metadata": {
        "id": "Qal11E5_jsh0"
      }
    }
  ]
}