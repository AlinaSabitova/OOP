{
  "nbformat": 4,
  "nbformat_minor": 0,
  "metadata": {
    "colab": {
      "provenance": [],
      "authorship_tag": "ABX9TyOgAY17NLwdNAwxuVh6pwgx",
      "include_colab_link": true
    },
    "kernelspec": {
      "name": "python3",
      "display_name": "Python 3"
    },
    "language_info": {
      "name": "python"
    }
  },
  "cells": [
    {
      "cell_type": "markdown",
      "metadata": {
        "id": "view-in-github",
        "colab_type": "text"
      },
      "source": [
        "<a href=\"https://colab.research.google.com/github/AlinaSabitova/OOP/blob/main/%D0%98%D0%BD%D0%B4.%D0%B7%D0%B0%D0%B4%D0%B0%D0%BD%D0%B8%D0%B51.ipynb\" target=\"_parent\"><img src=\"https://colab.research.google.com/assets/colab-badge.svg\" alt=\"Open In Colab\"/></a>"
      ]
    },
    {
      "cell_type": "code",
      "source": [
        "class Track:\n",
        "  def __init__(self, track_name, duration):\n",
        "    self.track_name = track_name\n",
        "    self.duration = duration\n",
        "\n",
        "  def show(self):\n",
        "    return \"название трека {} - длительность {}\".format(self.track_name, self.duration)\n",
        "\n",
        "class Album:\n",
        "  def __init__(self, album_name, group):\n",
        "    self.album_name = album_name\n",
        "    self.group = group\n",
        "    self.tracks = []\n",
        "    self.album_duration = 0\n",
        "\n",
        "  def get_tracks(self):\n",
        "    print(self.tracks)\n",
        "\n",
        "  def add_tracks(self, track_name, duration):\n",
        "    self.tracks.append(\"название трека {} - длительность {}\".format(track_name, duration))\n",
        "    self.album_duration += duration\n",
        "    return self.tracks\n",
        "\n",
        "  def get_duration(self):\n",
        "    return \"Длительность альбомa: {} минут\".format(self.album_duration)\n",
        "\n",
        "album1 = Album(\"Good\", \"Biatles\")\n",
        "print(\"Альбом {}\".format(album1.album_name))\n",
        "track1 = Track(\"Mood\", 2.5)\n",
        "track2 = Track(\"Moon\", 2)\n",
        "track3 = Track(\"Happiness\", 3)\n",
        "album1.add_tracks(track1.track_name, track1.duration)\n",
        "album1.add_tracks(track2.track_name, track2.duration)\n",
        "album1.add_tracks(track3.track_name, track3.duration)\n",
        "album1.get_tracks()\n",
        "print(album1.get_duration())\n",
        "\n",
        "album2 = Album(\"Bad\", \"Queen\")\n",
        "print(\"Альбом {}\".format(album2.album_name))\n",
        "track11 = Track(\"Sad\", 1.5)\n",
        "track22 = Track(\"Rain\", 3)\n",
        "track33 = Track(\"Horror\", 2)\n",
        "album2.add_tracks(track11.track_name, track11.duration)\n",
        "album2.add_tracks(track22.track_name, track22.duration)\n",
        "album2.add_tracks(track33.track_name, track33.duration)\n",
        "album2.get_tracks()\n",
        "print(album2.get_duration())"
      ],
      "metadata": {
        "id": "j3Jg5sjnbIw9",
        "outputId": "01f47739-e0ba-4ec9-b30d-17e923ac64d0",
        "colab": {
          "base_uri": "https://localhost:8080/"
        }
      },
      "execution_count": 36,
      "outputs": [
        {
          "output_type": "stream",
          "name": "stdout",
          "text": [
            "Альбом Good\n",
            "['название трека Mood - длительность 2.5', 'название трека Moon - длительность 2', 'название трека Happiness - длительность 3']\n",
            "Длительность альбомa: 7.5 минут\n",
            "Альбом Bad\n",
            "['название трека Sad - длительность 1.5', 'название трека Rain - длительность 3', 'название трека Horror - длительность 2']\n",
            "Длительность альбомa: 6.5 минут\n"
          ]
        }
      ]
    }
  ]
}