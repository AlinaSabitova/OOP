{
  "nbformat": 4,
  "nbformat_minor": 0,
  "metadata": {
    "colab": {
      "provenance": [],
      "authorship_tag": "ABX9TyON5pbS8BRtZtP7t9RnKtKF",
      "include_colab_link": true
    },
    "kernelspec": {
      "name": "python3",
      "display_name": "Python 3"
    },
    "language_info": {
      "name": "python"
    }
  },
  "cells": [
    {
      "cell_type": "markdown",
      "metadata": {
        "id": "view-in-github",
        "colab_type": "text"
      },
      "source": [
        "<a href=\"https://colab.research.google.com/github/AlinaSabitova/OOP/blob/main/%D0%98%D0%BD%D0%B4.%D0%B7%D0%B0%D0%B4%D0%B0%D0%BD%D0%B8%D0%B51.ipynb\" target=\"_parent\"><img src=\"https://colab.research.google.com/assets/colab-badge.svg\" alt=\"Open In Colab\"/></a>"
      ]
    },
    {
      "cell_type": "code",
      "execution_count": 74,
      "metadata": {
        "colab": {
          "base_uri": "https://localhost:8080/"
        },
        "id": "IWZ05LMI3XZZ",
        "outputId": "acd7ffac-e768-4857-b605-91ab5c87e63f"
      },
      "outputs": [
        {
          "output_type": "stream",
          "name": "stdout",
          "text": [
            "Первый альбом - JHG\n",
            "название трека G - длительность 3 \n",
            "название трека Y - длительность 1.5 \n",
            "название трека D - длительность 2 \n",
            "None\n",
            "Длительность альбома JHG - 6.5\n",
            "Второй альбом - YYY\n",
            "название трека A - длительность 2 \n",
            "название трека B - длительность 1.5 \n",
            "название трека C - длительность 2 \n",
            "None\n",
            "Длительность альбома YYY - 5.5\n",
            "Process deleted.\n",
            "Process deleted.\n"
          ]
        }
      ],
      "source": [
        "class Track:\n",
        "  def __init__(self, track_name, duration):\n",
        "    self.track_name = track_name\n",
        "    self.duration = duration\n",
        "\n",
        "  def show(self):\n",
        "    return \"{} - {}\".format(self.track_name, self.duration)\n",
        "\n",
        "class Album:\n",
        "  def __init__(self, album_name, group, track1, track2, track3, dur1, dur2, dur3, new_track):\n",
        "    self.album_name = album_name\n",
        "    self.group = group\n",
        "    self.track1 = track1\n",
        "    self.track2 = track2\n",
        "    self.track3 = track3\n",
        "    self.tracks = [self.track1, self.track2, self.track3]\n",
        "    self.dur1 = dur1\n",
        "    self.dur2 = dur2\n",
        "    self.dur3 = dur3\n",
        "    self.new_track = new_track\n",
        "\n",
        "  def get_tracks(self):\n",
        "    print(\"название трека {} - длительность {} \".format(self.track1, self.dur1))\n",
        "    print(\"название трека {} - длительность {} \".format(self.track2, self.dur2))\n",
        "    print(\"название трека {} - длительность {} \".format(self.track3, self.dur3))\n",
        "\n",
        "  def add_tracks(self, new_track):\n",
        "    self.tracks.append(self.new_track)\n",
        "    return self.tracks\n",
        "\n",
        "  def get_duration(self):\n",
        "    album_duration = self.dur1 + self.dur2 + self.dur3\n",
        "    return album_duration\n",
        "\n",
        "  def __del__(self):\n",
        "        print('Process deleted.')\n",
        "\n",
        "a = Album(\"JHG\", \"KGKH\", \"G\", \"Y\", \"D\", 3, 1.5, 2, \"-\")\n",
        "print(\"Первый альбом - {}\".format(a.album_name))\n",
        "print(a.get_tracks())\n",
        "print(\"Длительность альбома {} - {}\".format(a.album_name, a.get_duration()))\n",
        "b = Album(\"YYY\", \"Big\", \"A\", \"B\", \"C\", 2, 1.5, 2, \"-\")\n",
        "print(\"Второй альбом - {}\".format(b.album_name))\n",
        "print(b.get_tracks())\n",
        "print(\"Длительность альбома {} - {}\".format(b.album_name, b.get_duration()))"
      ]
    },
    {
      "cell_type": "markdown",
      "source": [
        "# Неудачная попытка сделать задание через список"
      ],
      "metadata": {
        "id": "LYuCD7fVSZHe"
      }
    },
    {
      "cell_type": "code",
      "source": [
        "class Track:\n",
        "  def __init__(self, track_name, duration):\n",
        "    self.track_name = track_name\n",
        "    self.duration = duration\n",
        "\n",
        "  def show(self):\n",
        "    tracks = []\n",
        "    tracks.append(\"{} - {}\".format(self.track_name, self.duration))\n",
        "    return tracks\n",
        "\n",
        "class Album:\n",
        "  def __init__(self, album_name, group, tracks = []):\n",
        "    self.album_name = album_name\n",
        "    self.group = group\n",
        "    self.tracks = tracks\n",
        "    \n",
        "  def get_tracks(self):\n",
        "    print(self.tracks)\n",
        "\n",
        "  def add_tracks(self, new_track):\n",
        "    self.tracks.append(self.new_track)\n",
        "    return self.tracks\n",
        "\n",
        "  def get_duration(self):\n",
        "    album_duration = len(self.tracks) * self.duration\n",
        "    return album_duration\n",
        "\n",
        "g = Track(\"G\", 3)\n",
        "y = Track(\"Y\", 2)\n",
        "s = Track(\"S\", 2.5)\n",
        "print(a.album_name)\n",
        "print(a.get_tracks())\n",
        "print(g.show())\n",
        "print(y.show())\n",
        "print(s.show())\n",
        "a = Album(\"JHG\", \"KGKH\", [\"G\", \"Y\", \"S\"])"
      ],
      "metadata": {
        "colab": {
          "base_uri": "https://localhost:8080/"
        },
        "id": "M7jTIIRrDs7e",
        "outputId": "7e7b93a3-90cc-45a4-977b-6fe16413b4ff"
      },
      "execution_count": 65,
      "outputs": [
        {
          "output_type": "stream",
          "name": "stdout",
          "text": [
            "JHG\n",
            "название трека G - длительность 3 \n",
            "название трека Y - длительность 1.5 \n",
            "название трека D - длительность 2 \n",
            "None\n",
            "['G - 3']\n",
            "['Y - 2']\n",
            "['S - 2.5']\n",
            "Process deleted.\n"
          ]
        }
      ]
    }
  ]
}