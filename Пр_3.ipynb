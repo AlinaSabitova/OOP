{
  "cells": [
    {
      "cell_type": "markdown",
      "metadata": {
        "id": "view-in-github",
        "colab_type": "text"
      },
      "source": [
        "<a href=\"https://colab.research.google.com/github/AlinaSabitova/OOP/blob/main/%D0%9F%D1%80_3.ipynb\" target=\"_parent\"><img src=\"https://colab.research.google.com/assets/colab-badge.svg\" alt=\"Open In Colab\"/></a>"
      ]
    },
    {
      "cell_type": "markdown",
      "metadata": {
        "id": "BdG9P5qQvqGQ"
      },
      "source": [
        "#Вариант №15\n",
        "Описать класс «файл», содержащий сведения об имени, дате создания и\n",
        "длине файла. Предусмотреть инициализацию с проверкой допустимости\n",
        "значений полей. В случае недопустимых значений полей выбрасываются\n",
        "исключения. Описать метод добавления информации в конец файла и свойства\n",
        "для получения состояния файла.\n",
        "Написать программу, демонстрирующую все разработанные элементы\n",
        "класса. \n"
      ]
    },
    {
      "cell_type": "markdown",
      "source": [
        "Без скрытых переменных:"
      ],
      "metadata": {
        "id": "2sk79qR5lVTz"
      }
    },
    {
      "cell_type": "code",
      "source": [
        "class File:\n",
        "  def __init__(self, name, date_of_creation, length, information):\n",
        "    if type(name) == str and type(date_of_creation) == str and type(length) == int and type(information) == str:\n",
        "      self.name = name\n",
        "      self.date_of_creation = date_of_creation\n",
        "      self.length = length\n",
        "      self.information = information\n",
        "    else:\n",
        "      raise ValueError()\n",
        "  \n",
        "  def add(self, new_information):\n",
        "    self.information += new_information\n",
        "    self.length += len(new_information)\n",
        "\n",
        "  def file_name(self):\n",
        "    return self.name\n",
        "\n",
        "  def file_date_of_creation(self):\n",
        "    return self.date_of_creation\n",
        "\n",
        "  def file_length(self):\n",
        "    return self.length\n",
        "\n",
        "  def file_information(self):\n",
        "    return self.information\n",
        "\n",
        "try:\n",
        "  f1 = File(\"file1\", \"24.04.2023\", 0, \"\")\n",
        "  print(\"Имя файла: \", f1.file_name())\n",
        "  print(\"Дата создания файла: \", f1.file_date_of_creation())\n",
        "  print(f1.add(\"Hello, user!\"))\n",
        "  print(\"Длина файла: \", f1.file_length())\n",
        "  print(\"Информация, содержащаяся в файле: \", f1.file_information())\n",
        "except ValueError as err:\n",
        "  print(\"Введены недопустимые значения!\")"
      ],
      "metadata": {
        "id": "3x75iFsQbZ_e",
        "outputId": "9ba995b8-3b7f-433b-b1d8-5ac3ecfee278",
        "colab": {
          "base_uri": "https://localhost:8080/"
        }
      },
      "execution_count": 22,
      "outputs": [
        {
          "output_type": "stream",
          "name": "stdout",
          "text": [
            "Имя файла:  file1\n",
            "Дата создания файла:  24.04.2023\n",
            "None\n",
            "Длина файла:  12\n",
            "Информация, содержащаяся в файле:  Hello, user!\n"
          ]
        }
      ]
    },
    {
      "cell_type": "markdown",
      "source": [
        "Со скрытыми переменными:"
      ],
      "metadata": {
        "id": "l-IrRjEIltRM"
      }
    },
    {
      "cell_type": "code",
      "source": [
        "class File:\n",
        "  __information = \"\"\n",
        "  def __init__(self, name, date_of_creation, length):\n",
        "    if type(name) == str and type(date_of_creation) == str and type(length) == int:\n",
        "      self.name = name\n",
        "      self.date_of_creation = date_of_creation\n",
        "      self.length = length\n",
        "    else:\n",
        "      raise ValueError()\n",
        "  \n",
        "  def add(self, information):\n",
        "    File._File__information += information\n",
        "    self.length += len(information)\n",
        "\n",
        "  def file_name(self):\n",
        "    return self.name\n",
        "\n",
        "  def file_date_of_creation(self):\n",
        "    return self.date_of_creation\n",
        "\n",
        "  def file_length(self):\n",
        "    return self.length\n",
        "\n",
        "  def file_information(self):\n",
        "    return File._File__information\n",
        "\n",
        "try:\n",
        "  f1 = File(\"file1\", \"24.04.2023\", 0)\n",
        "  print(\"Имя файла: \", f1.file_name())\n",
        "  print(\"Дата создания файла: \", f1.file_date_of_creation())\n",
        "  print(f1.add(\"Hello, user!\"))\n",
        "  print(\"Длина файла: \", f1.file_length())\n",
        "  print(\"Информация, содержащаяся в файле: \", f1.file_information())\n",
        "except ValueError as err:\n",
        "  print(\"Введены недопустимые значения!\")"
      ],
      "metadata": {
        "id": "iFWPuF0gfDUH",
        "outputId": "a6313456-3532-4968-9a6c-eeecbcf7e41a",
        "colab": {
          "base_uri": "https://localhost:8080/"
        }
      },
      "execution_count": 20,
      "outputs": [
        {
          "output_type": "stream",
          "name": "stdout",
          "text": [
            "Имя файла:  file1\n",
            "Дата создания файла:  24.04.2023\n",
            "None\n",
            "Длина файла:  12\n",
            "Информация, содержащаяся в файле:  Hello, user!\n"
          ]
        }
      ]
    }
  ],
  "metadata": {
    "colab": {
      "provenance": [],
      "authorship_tag": "ABX9TyMU0Xsij67ilayjp9n8DG9K",
      "include_colab_link": true
    },
    "kernelspec": {
      "display_name": "Python 3",
      "name": "python3"
    },
    "language_info": {
      "name": "python"
    }
  },
  "nbformat": 4,
  "nbformat_minor": 0
}