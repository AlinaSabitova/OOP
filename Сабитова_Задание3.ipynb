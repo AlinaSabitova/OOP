{
  "nbformat": 4,
  "nbformat_minor": 0,
  "metadata": {
    "colab": {
      "provenance": [],
      "authorship_tag": "ABX9TyMxS7Eq+n1AQDrFbwC7qmwd",
      "include_colab_link": true
    },
    "kernelspec": {
      "name": "python3",
      "display_name": "Python 3"
    },
    "language_info": {
      "name": "python"
    }
  },
  "cells": [
    {
      "cell_type": "markdown",
      "metadata": {
        "id": "view-in-github",
        "colab_type": "text"
      },
      "source": [
        "<a href=\"https://colab.research.google.com/github/AlinaSabitova/OOP/blob/main/%D0%A1%D0%B0%D0%B1%D0%B8%D1%82%D0%BE%D0%B2%D0%B0_%D0%97%D0%B0%D0%B4%D0%B0%D0%BD%D0%B8%D0%B53.ipynb\" target=\"_parent\"><img src=\"https://colab.research.google.com/assets/colab-badge.svg\" alt=\"Open In Colab\"/></a>"
      ]
    },
    {
      "cell_type": "code",
      "execution_count": 5,
      "metadata": {
        "colab": {
          "base_uri": "https://localhost:8080/",
          "height": 105
        },
        "id": "iCCX8seoa5_y",
        "outputId": "a7db6676-0c64-4921-f953-fa4678c9a1ca"
      },
      "outputs": [
        {
          "name": "stdout",
          "output_type": "stream",
          "text": [
            "Введите название товара: ручка\n",
            "Введите цену: 30\n",
            "Введите вес: 0.1\n",
            "Введите количество покупаемого товара (в шт): 15\n"
          ]
        },
        {
          "output_type": "execute_result",
          "data": {
            "text/plain": [
              "'Вы приобрели 15 ручка по цене 30 весом 0.1, итоговая сумма: 450'"
            ],
            "application/vnd.google.colaboratory.intrinsic+json": {
              "type": "string"
            }
          },
          "metadata": {},
          "execution_count": 5
        }
      ],
      "source": [
        "# Задание 1\n",
        "class Product:\n",
        "  def __init__(self, name, cost, weight):\n",
        "    self.name = name\n",
        "    self.cost = cost\n",
        "    self.weight = weight\n",
        "\n",
        "class Buy(Product):\n",
        "  def __init__(self, name, cost, weight, quantity_of_goods):\n",
        "    super().__init__(name, cost, weight)\n",
        "    self.quantity_of_goods = quantity_of_goods\n",
        "    self.total_price = self.cost * self.quantity_of_goods\n",
        "    self.total_weight = self.weight * self.quantity_of_goods\n",
        "\n",
        "class Check(Buy):\n",
        "  def information(self):\n",
        "    return \"Вы приобрели {} {} по цене {} весом {}, итоговая сумма: {}\".format(self.quantity_of_goods, self.name, self.cost, self.weight, self.total_price)\n",
        "\n",
        "name = str(input(\"Введите название товара: \"))\n",
        "cost = int(input(\"Введите цену: \"))\n",
        "weight = float(input(\"Введите вес: \"))\n",
        "quantity_of_goods = int(input(\"Введите количество покупаемого товара (в шт): \"))\n",
        "product1 = Check(name, cost, weight, quantity_of_goods)\n",
        "product1.information()"
      ]
    },
    {
      "cell_type": "code",
      "source": [
        "if __name__ == \"__main__\":\n",
        "  name = str(input(\"Введите название товара: \"))\n",
        "  cost = int(input(\"Введите цену: \"))\n",
        "  weight = float(input(\"Введите вес: \"))\n",
        "  quantity_of_goods = int(input(\"Введите количество покупаемого товара (в шт): \"))\n",
        "  product1 = Check(name, cost, weight, quantity_of_goods)\n",
        "  print(product1.information())"
      ],
      "metadata": {
        "colab": {
          "base_uri": "https://localhost:8080/"
        },
        "id": "vdH4bcQYmlSs",
        "outputId": "e92808f2-f639-4293-bb3c-78932a7ebf9d"
      },
      "execution_count": 12,
      "outputs": [
        {
          "output_type": "stream",
          "name": "stdout",
          "text": [
            "Введите название товара: ручка\n",
            "Введите цену: 30\n",
            "Введите вес: 0.1\n",
            "Введите количество покупаемого товара (в шт): 15\n",
            "Вы приобрели 15 ручка по цене 30 весом 0.1, итоговая сумма: 450\n"
          ]
        }
      ]
    },
    {
      "cell_type": "code",
      "source": [
        "# Задание 2\n",
        "import math\n",
        "class Calculator:\n",
        "  def __init__(self, x):\n",
        "    self.x = x\n",
        "  def summa(self, y):\n",
        "    self.res = self.x + y\n",
        "    return \"Сумма = {}\".format(self.res)\n",
        "  def difference(self, y):\n",
        "    self.res = self.x - y\n",
        "    return \"Разность = {}\".format(self.res)\n",
        "  def multiplication(self, y):\n",
        "    self.res = self.x * y\n",
        "    return \"Произведение = {}\".format(self.res)\n",
        "  def division(self, y):\n",
        "    if self.x == 0:\n",
        "      return \"Делить на ноль нельзя!\"\n",
        "    else:\n",
        "      self.res = self.x / y\n",
        "      return \"Чвстное = {}\".format(self.res)\n",
        "  def square_root(self):\n",
        "    if self.x > 0:\n",
        "      self.res = self.x ** (1/2)\n",
        "      return \"Корень = {}\".format(self.res)\n",
        "    else:\n",
        "      return \"Число должно быть больше нуля!\"\n",
        "  def sinus(self):\n",
        "    rad = self.x * 3.14 / 180\n",
        "    self.res = math.sin(rad)\n",
        "    return \"Синус = {}\".format(self.res)\n",
        "  \n",
        "class Calculator_memory:\n",
        "  def __init__(self, memory):\n",
        "    self.memory = 0\n",
        "  def write_down(self, meaning):\n",
        "    self.memory += meaning\n",
        "    return self.memory\n",
        "  def delete(self):\n",
        "    return self.memory\n",
        "  def add(self, meaning):\n",
        "    self.memory += meaning\n",
        "    return self.memory\n",
        "\n",
        "x = int(input(\"Введите x: \"))\n",
        "a1 = Calculator(x)\n",
        "print(a1.summa(y = int(input(\"Введите второй параметр: \"))))\n",
        "print(a1.difference(y = int(input(\"Введите второй параметр: \"))))\n",
        "print(a1.multiplication(y = int(input(\"Введите второй параметр: \"))))\n",
        "print(a1.division(y = int(input(\"Введите второй параметр: \"))))\n",
        "print(a1.square_root())\n",
        "print(a1.sinus())\n",
        "b = Calculator_memory(0)\n",
        "b.write_down(4)"
      ],
      "metadata": {
        "colab": {
          "base_uri": "https://localhost:8080/"
        },
        "id": "oxv5ugXgfGuR",
        "outputId": "cff0b7f9-b4fc-4be4-c84f-94ac64f96c24"
      },
      "execution_count": 26,
      "outputs": [
        {
          "output_type": "stream",
          "name": "stdout",
          "text": [
            "Введите x: 49\n",
            "Введите второй параметр: 5\n",
            "Сумма = 54\n",
            "Введите второй параметр: 8\n",
            "Разность = 41\n",
            "Введите второй параметр: 9\n",
            "Произведение = 441\n",
            "Введите второй параметр: 4\n",
            "Чвстное = 12.25\n",
            "Корень = 7.0\n",
            "Синус = 0.7544250711689084\n"
          ]
        },
        {
          "output_type": "execute_result",
          "data": {
            "text/plain": [
              "4"
            ]
          },
          "metadata": {},
          "execution_count": 26
        }
      ]
    },
    {
      "cell_type": "code",
      "source": [
        "if __name__ == \"__main__\":\n",
        "  x = int(input(\"Введите x: \"))\n",
        "  a1 = Calculator(x)\n",
        "  print(a1.summa(y = int(input(\"Введите второй параметр: \"))))"
      ],
      "metadata": {
        "colab": {
          "base_uri": "https://localhost:8080/"
        },
        "id": "Lw7FzyY3rMwh",
        "outputId": "2744efc0-c5e1-48cd-bc1d-7a0c60b79df1"
      },
      "execution_count": 24,
      "outputs": [
        {
          "output_type": "stream",
          "name": "stdout",
          "text": [
            "Введите x: 5\n",
            "Введите второй параметр: 7\n",
            "Сумма = 12\n"
          ]
        }
      ]
    }
  ]
}