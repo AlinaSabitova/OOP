{
  "nbformat": 4,
  "nbformat_minor": 0,
  "metadata": {
    "colab": {
      "provenance": [],
      "authorship_tag": "ABX9TyM16beRCF6prCuB2x9xV4Ac",
      "include_colab_link": true
    },
    "kernelspec": {
      "name": "python3",
      "display_name": "Python 3"
    },
    "language_info": {
      "name": "python"
    }
  },
  "cells": [
    {
      "cell_type": "markdown",
      "metadata": {
        "id": "view-in-github",
        "colab_type": "text"
      },
      "source": [
        "<a href=\"https://colab.research.google.com/github/AlinaSabitova/OOP/blob/main/%D0%9F%D1%80_4.ipynb\" target=\"_parent\"><img src=\"https://colab.research.google.com/assets/colab-badge.svg\" alt=\"Open In Colab\"/></a>"
      ]
    },
    {
      "cell_type": "markdown",
      "source": [
        "Построить класс 1-го уровня с указанными в задании полями и методами:\n",
        "- конструктор,\n",
        "- функция, которая определяет “качество” (Q ) по заданной формуле,\n",
        "- вывод информации об объекте.\n",
        "\n",
        "Построить класс-потомок, который содержит дополнительное поле P и\n",
        "перекрывает функцию качества (Q ), выполняя вычисление по новой формуле\n",
        "(Qp).\n",
        "\n",
        "Партия:\n",
        "- название,\n",
        "- численность (тыс. членов),\n",
        "- процент голосов на последних выборах.\n",
        "Q = 0,3*численность+0,7*процент гол. \n",
        "\n",
        "P: численность партии в\n",
        "прошлом году\n",
        "Qp: если численность в\n",
        "текущем году увеличилась, то\n",
        "Qp=1,2*Q;\n",
        "а если сократилась, то\n",
        "Qp=0,8*Q\n"
      ],
      "metadata": {
        "id": "sPVOETMYJaQy"
      }
    },
    {
      "cell_type": "code",
      "execution_count": 19,
      "metadata": {
        "colab": {
          "base_uri": "https://localhost:8080/"
        },
        "id": "VLjNWeIF_plk",
        "outputId": "285452cb-abcb-483e-cbff-c7d80881f71a"
      },
      "outputs": [
        {
          "output_type": "stream",
          "name": "stdout",
          "text": [
            "94.9\n",
            "Название партии: ЛДПР, численность: 300 тыс. членов, процент голосов на последних выборах: 7, качество: 94.9\n",
            "73.44\n",
            "Название партии: КПРФ, численность: 162 тыс. членов, процент голосов на последних выборах: 18, качество: 73.44\n"
          ]
        }
      ],
      "source": [
        "class Consignment:\n",
        "  def __init__(self, name, number, last_percentage_of_vote):\n",
        "    self.name = name\n",
        "    self.number = number\n",
        "    self.last_percentage_of_vote = last_percentage_of_vote\n",
        "  def quality(self):\n",
        "    Q = 0.3 * self.number + 0.7 * self.last_percentage_of_vote\n",
        "    return Q\n",
        "\n",
        "  def info(self):\n",
        "    return \"Название партии: {}, численность: {} тыс. членов, процент голосов на последних выборах: {}, качество: {}\".format(self.name, self.number, self.last_percentage_of_vote, self.quality())\n",
        "\n",
        "class New_quality(Consignment):\n",
        "  def __init__(self, name, number, last_percentage_of_vote, P):\n",
        "    super().__init__(name, number, last_percentage_of_vote)\n",
        "    self.P = P\n",
        "\n",
        "  def quality(self):\n",
        "    if self.number > self.P:\n",
        "      Qp = 1.2 * super().quality()\n",
        "    else:\n",
        "      Qp = 0.8 * super().quality()\n",
        "    return Qp\n",
        "\n",
        "p1 = Consignment(\"ЛДПР\", 300, 7)\n",
        "print(p1.quality())\n",
        "print(p1.info())\n",
        "p2 = New_quality(\"КПРФ\", 162, 18, 156)\n",
        "print(p2.quality())\n",
        "print(p2.info())"
      ]
    }
  ]
}