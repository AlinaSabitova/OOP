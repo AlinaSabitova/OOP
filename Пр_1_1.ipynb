{
  "nbformat": 4,
  "nbformat_minor": 0,
  "metadata": {
    "colab": {
      "provenance": [],
      "authorship_tag": "ABX9TyPPM3h8tCVfKJfZZvfdPPtM",
      "include_colab_link": true
    },
    "kernelspec": {
      "name": "python3",
      "display_name": "Python 3"
    },
    "language_info": {
      "name": "python"
    }
  },
  "cells": [
    {
      "cell_type": "markdown",
      "metadata": {
        "id": "view-in-github",
        "colab_type": "text"
      },
      "source": [
        "<a href=\"https://colab.research.google.com/github/AlinaSabitova/OOP/blob/main/%D0%9F%D1%80_1_1.ipynb\" target=\"_parent\"><img src=\"https://colab.research.google.com/assets/colab-badge.svg\" alt=\"Open In Colab\"/></a>"
      ]
    },
    {
      "cell_type": "code",
      "execution_count": null,
      "metadata": {
        "colab": {
          "base_uri": "https://localhost:8080/"
        },
        "id": "vXI6dJXKLobw",
        "outputId": "ef871112-c779-4de5-a1e8-992395d12086"
      },
      "outputs": [
        {
          "output_type": "stream",
          "name": "stdout",
          "text": [
            "30\n",
            "19\n",
            "9\n"
          ]
        }
      ],
      "source": [
        "class A:\n",
        "  \"\"\"\n",
        "  Класс, который суммирует и уменьшает числа\n",
        "  \"\"\"\n",
        "  __a = int() \n",
        "  __b = int()\n",
        "\n",
        "  def __init__(self, a, b):\n",
        "    self.a = a\n",
        "    self.b = b\n",
        "\n",
        "  def summa(self): \n",
        "    \"\"\"\n",
        "    Складывает первое и второе числа\n",
        "    \"\"\"\n",
        "    return self.a+self.b\n",
        "\n",
        "  def residual_a(self):\n",
        "    \"\"\"\n",
        "    Уменьшает число на единицу\n",
        "    \"\"\"\n",
        "    return self.a-1\n",
        "\n",
        "  def residual_b(self):\n",
        "    \"\"\"\n",
        "    Уменьшает число на единицу\n",
        "    \"\"\"\n",
        "    return self.b-1\n",
        "\n",
        "c = A(20,10)\n",
        "print(c.summa())\n",
        "print(c.residual_a())\n",
        "print(c.residual_b()) "
      ]
    },
    {
      "cell_type": "code",
      "source": [
        "class Programm():\n",
        "  \"\"\"\n",
        "  Класс, который вызывает класс \"A()\"\n",
        "  \"\"\"\n",
        "  def __init__(self):\n",
        "        c = A(20, 10)\n",
        "        print(c.summa())\n",
        "        print(c.residual_a())\n",
        "        print(c.residual_b()) \n",
        "\n",
        "if __name__ == \"__main__\":\n",
        "    c = Programm()\n",
        "    print(\"Programm end\")"
      ],
      "metadata": {
        "id": "WfFLqhAnL3cN",
        "outputId": "92070146-9408-4860-d52c-a3a975cddf0c",
        "colab": {
          "base_uri": "https://localhost:8080/"
        }
      },
      "execution_count": null,
      "outputs": [
        {
          "output_type": "stream",
          "name": "stdout",
          "text": [
            "30\n",
            "19\n",
            "9\n",
            "Programm end\n"
          ]
        }
      ]
    }
  ]
}