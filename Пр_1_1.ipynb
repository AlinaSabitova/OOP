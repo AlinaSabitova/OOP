{
  "nbformat": 4,
  "nbformat_minor": 0,
  "metadata": {
    "colab": {
      "provenance": [],
      "authorship_tag": "ABX9TyNDHk9ohZd/CkC0pvpWog+W",
      "include_colab_link": true
    },
    "kernelspec": {
      "name": "python3",
      "display_name": "Python 3"
    },
    "language_info": {
      "name": "python"
    }
  },
  "cells": [
    {
      "cell_type": "markdown",
      "metadata": {
        "id": "view-in-github",
        "colab_type": "text"
      },
      "source": [
        "<a href=\"https://colab.research.google.com/github/AlinaSabitova/OOP/blob/main/%D0%9F%D1%80_1_1.ipynb\" target=\"_parent\"><img src=\"https://colab.research.google.com/assets/colab-badge.svg\" alt=\"Open In Colab\"/></a>"
      ]
    },
    {
      "cell_type": "code",
      "execution_count": 1,
      "metadata": {
        "colab": {
          "base_uri": "https://localhost:8080/"
        },
        "id": "vXI6dJXKLobw",
        "outputId": "ef871112-c779-4de5-a1e8-992395d12086"
      },
      "outputs": [
        {
          "output_type": "stream",
          "name": "stdout",
          "text": [
            "30\n",
            "19\n",
            "9\n"
          ]
        }
      ],
      "source": [
        "class A:\n",
        "  a = int() \n",
        "  b = int()\n",
        "\n",
        "  def __init__(self, a, b):\n",
        "    self.a = a\n",
        "    self.b = b\n",
        "\n",
        "  def summa(self): \n",
        "    return self.a+self.b\n",
        "\n",
        "  def residual_a(self):\n",
        "    return self.a-1\n",
        "\n",
        "  def residual_b(self):\n",
        "    return self.b-1\n",
        "\n",
        "c = A(20,10)\n",
        "print(c.summa())\n",
        "print(c.residual_a())\n",
        "print(c.residual_b()) "
      ]
    },
    {
      "cell_type": "code",
      "source": [
        "class Programm():\n",
        "  def __init__(self):\n",
        "        c = A(20, 10)\n",
        "        print(c.summa())\n",
        "        print(c.residual_a())\n",
        "        print(c.residual_b()) \n",
        "\n",
        "if __name__ == \"__main__\":\n",
        "    c = Programm()\n",
        "    print(\"Programm end\")"
      ],
      "metadata": {
        "id": "WfFLqhAnL3cN",
        "outputId": "92070146-9408-4860-d52c-a3a975cddf0c",
        "colab": {
          "base_uri": "https://localhost:8080/"
        }
      },
      "execution_count": 2,
      "outputs": [
        {
          "output_type": "stream",
          "name": "stdout",
          "text": [
            "30\n",
            "19\n",
            "9\n",
            "Programm end\n"
          ]
        }
      ]
    }
  ]
}