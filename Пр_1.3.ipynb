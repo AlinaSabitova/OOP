{
  "nbformat": 4,
  "nbformat_minor": 0,
  "metadata": {
    "colab": {
      "provenance": [],
      "authorship_tag": "ABX9TyMCr05ewtK8OtzhHSNmwqO8",
      "include_colab_link": true
    },
    "kernelspec": {
      "name": "python3",
      "display_name": "Python 3"
    },
    "language_info": {
      "name": "python"
    }
  },
  "cells": [
    {
      "cell_type": "markdown",
      "metadata": {
        "id": "view-in-github",
        "colab_type": "text"
      },
      "source": [
        "<a href=\"https://colab.research.google.com/github/AlinaSabitova/OOP/blob/main/%D0%9F%D1%80_1.3.ipynb\" target=\"_parent\"><img src=\"https://colab.research.google.com/assets/colab-badge.svg\" alt=\"Open In Colab\"/></a>"
      ]
    },
    {
      "cell_type": "markdown",
      "source": [
        "1.3.1 Создайте для класса «студент» функцию, которая считает средний\n",
        "балл по трем дисциплинам, оценки по которым вводятся пользователям.\n",
        "Реализуйте программу двумя способами: без использования\n",
        "конструктора __init__ и с ним. "
      ],
      "metadata": {
        "id": "BEbP0-6L7EaT"
      }
    },
    {
      "cell_type": "code",
      "execution_count": 2,
      "metadata": {
        "colab": {
          "base_uri": "https://localhost:8080/"
        },
        "id": "ujyA_fd35yUA",
        "outputId": "59bc59fb-2c4a-4c15-8f94-31ef6c2d4c76"
      },
      "outputs": [
        {
          "output_type": "stream",
          "name": "stdout",
          "text": [
            "Введите первую дисциплину: Русский язык\n",
            "Введите оценку студента: 5\n",
            "Введите вторую дисциплину: Обществознание\n",
            "Введите оценку студента: 4\n",
            "Введите третью дисциплину: Математика\n",
            "Введите оценку студента: 3\n",
            "Средний балл студента: 4.0\n"
          ]
        }
      ],
      "source": [
        "# 1.3.1\n",
        "# Первый способ\n",
        "\n",
        "class Student():\n",
        "  first_subject = \"\"\n",
        "  second_subject = \"\"\n",
        "  third_subject = \"\"\n",
        "\n",
        "def average(pupil):\n",
        "  average_mark = (pupil.first_subject + pupil.second_subject + pupil.third_subject) / 3\n",
        "  return (\"Средний балл студента: {}\".format(average_mark))\n",
        "\n",
        "student1 = Student()\n",
        "discipline1 = str(input(\"Введите первую дисциплину: \"))\n",
        "student1.first_subject = int(input(\"Введите оценку студента: \"))\n",
        "discipline2 = str(input(\"Введите вторую дисциплину: \"))\n",
        "student1.second_subject = int(input(\"Введите оценку студента: \"))\n",
        "discipline3 = str(input(\"Введите третью дисциплину: \"))\n",
        "student1.third_subject = int(input(\"Введите оценку студента: \"))\n",
        "print(average(student1))"
      ]
    },
    {
      "cell_type": "code",
      "source": [
        "# 1.3.1\n",
        "# Второй способ\n",
        "\n",
        "class Student():\n",
        "  def __init__(self, subject1, subject2, subject3):\n",
        "    self.subject1 = subject1\n",
        "    self.subject2 = subject2\n",
        "    self.subject3 = subject3\n",
        "\n",
        "  def average(self):\n",
        "    return (self.subject1 + self.subject2 + self.subject3) / 3\n",
        "\n",
        "discipline1 = str(input(\"Введите первую дисциплину: \"))\n",
        "first = int(input(\"Введите оценку студента: \"))\n",
        "discipline1 = str(input(\"Введите первую дисциплину: \"))\n",
        "second = int(input(\"Введите оценку студента: \"))\n",
        "discipline1 = str(input(\"Введите первую дисциплину: \"))\n",
        "third = int(input(\"Введите оценку студента: \"))\n",
        "student1 = Student(first, second, third)  \n",
        "print(student1.average())"
      ],
      "metadata": {
        "id": "aBhSri2QuWzU",
        "outputId": "9881ed7c-de8f-4741-d7f2-8f129ba85fc0",
        "colab": {
          "base_uri": "https://localhost:8080/"
        }
      },
      "execution_count": 3,
      "outputs": [
        {
          "output_type": "stream",
          "name": "stdout",
          "text": [
            "Введите первую дисциплину: География\n",
            "Введите оценку студента: 4\n",
            "Введите первую дисциплину: Литература\n",
            "Введите оценку студента: 5\n",
            "Введите первую дисциплину: История\n",
            "Введите оценку студента: 5\n",
            "4.666666666666667\n"
          ]
        }
      ]
    },
    {
      "cell_type": "markdown",
      "source": [
        "1.3.2 Создайте функцию, которая считает и выводит в файл заработную\n",
        "плату сотрудника склада в зависимости от количества отработанных дней в\n",
        "месяце. Оклад является защищаемым атрибутом класса «сотрудник». "
      ],
      "metadata": {
        "id": "YVEOvov77RIQ"
      }
    },
    {
      "cell_type": "markdown",
      "source": [
        "1.3.3 Используя результат предыдущего задания, создайте функцию начисления премии сотруднику, вычисляемую как 1% от уровня заработной платы."
      ],
      "metadata": {
        "id": "KyTav-NvmSGS"
      }
    },
    {
      "cell_type": "code",
      "source": [
        "# 1.3.2, 1.3.3\n",
        "\n",
        "class Employee():\n",
        "  payment = int(input(\"Введите заработную плату работника: \"))\n",
        "  work_days = int(input(\"Введите количество рабочих дней в месяце: \"))\n",
        "  fact_days = int(input(\"Введите количество фактически отработанных дней: \"))\n",
        "\n",
        "  def employee_salary(self):\n",
        "    self.salary = self.payment / self.work_days * self.fact_days \n",
        "    f = open(\"task_1.3.2\", \"w\")\n",
        "    f.write(\"Зарплата: \" + str(self.salary) + \"\\n\")\n",
        "    f.close()\n",
        "    return self.salary\n",
        "\n",
        "  def premium(self):\n",
        "    self.salary = self.salary + (self.salary * 0.01)\n",
        "    f = open(\"task_1.3.2\", \"a\")\n",
        "    f.write(\"Зарплата с премией: \" + str(self.salary))\n",
        "    f.close()\n",
        "    return self.salary\n",
        "\n",
        "employee1 = Employee()\n",
        "print(employee1.employee_salary())\n",
        "print(employee1.premium())"
      ],
      "metadata": {
        "id": "7PySWxu2xh1M",
        "outputId": "4bb3724f-ec8b-4158-858f-0b6146e092ed",
        "colab": {
          "base_uri": "https://localhost:8080/"
        }
      },
      "execution_count": null,
      "outputs": [
        {
          "output_type": "stream",
          "name": "stdout",
          "text": [
            "Введите заработную плату работника: 50000\n",
            "Введите количество рабочих дней в месяце: 25\n",
            "Введите количество фактически отработанных дней: 22\n",
            "44000.0\n",
            "44440.0\n"
          ]
        }
      ]
    },
    {
      "cell_type": "markdown",
      "source": [
        "1.3.5 Используя технологию перегрузки операторов, измените\n",
        "__truediv__(деление) так, чтобы числителем был знаменатель и наоборот.\n",
        "Аналогичные процедуры осуществите для операторов\n",
        "__floordiv__(целочисленное деление), __mod__(остаток от деления). Числа\n",
        "вводят пользователи. Предусмотрите отработку исключений."
      ],
      "metadata": {
        "id": "vxBfwbG87dMi"
      }
    },
    {
      "cell_type": "code",
      "source": [
        "# 1.3.5\n",
        "\n",
        "class Task():\n",
        "  def __init__(self, x):\n",
        "    self.x = x\n",
        "\n",
        "  def __truediv__(self, other):\n",
        "    if self.x == 0:\n",
        "      raise ZeroDivisionError(\"Невозможно выполнить деление.\")\n",
        "    else:\n",
        "      return other/self.x\n",
        "\n",
        "  def __floordiv__(self, other):\n",
        "    if self.x == 0:\n",
        "      raise ZeroDivisionError(\"Невозможно выполнить деление.\")\n",
        "    else:\n",
        "      return other//self.x\n",
        "\n",
        "  def __mod__(self, other):\n",
        "    if self.x == 0:\n",
        "      raise ZeroDivisionError(\"Невозможно выполнить деление.\")\n",
        "    else:\n",
        "      return other%self.x\n",
        "try:\n",
        "  a = Task(int(input(\"Введите исходное число: \")))\n",
        "  print(a/int(input(\"Введите первый знаменатель: \")))\n",
        "  print(a//int(input(\"Введите второй знаменатель: \")))\n",
        "  print(a%int(input(\"Введите третий знаменатель: \")))\n",
        "except ZeroDivisionError as err:\n",
        "  print(\"Ошибка: \", err, \"На ноль делить нельзя!\")"
      ],
      "metadata": {
        "id": "H_eQrMue7if9",
        "outputId": "53927d19-ad15-4c90-d04f-7a0a21acdb0f",
        "colab": {
          "base_uri": "https://localhost:8080/"
        }
      },
      "execution_count": null,
      "outputs": [
        {
          "output_type": "stream",
          "name": "stdout",
          "text": [
            "Введите исходное число: 5\n",
            "Введите первый знаменатель: 2\n",
            "0.4\n",
            "Введите второй знаменатель: 14\n",
            "2\n",
            "Введите третий знаменатель: 13\n",
            "3\n"
          ]
        }
      ]
    }
  ]
}