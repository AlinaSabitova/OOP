{
  "nbformat": 4,
  "nbformat_minor": 0,
  "metadata": {
    "colab": {
      "provenance": [],
      "authorship_tag": "ABX9TyNeLx4dvjsLvhYcJhisIgyv",
      "include_colab_link": true
    },
    "kernelspec": {
      "name": "python3",
      "display_name": "Python 3"
    },
    "language_info": {
      "name": "python"
    }
  },
  "cells": [
    {
      "cell_type": "markdown",
      "metadata": {
        "id": "view-in-github",
        "colab_type": "text"
      },
      "source": [
        "<a href=\"https://colab.research.google.com/github/AlinaSabitova/OOP/blob/main/%D0%9F%D1%80_1.3.ipynb\" target=\"_parent\"><img src=\"https://colab.research.google.com/assets/colab-badge.svg\" alt=\"Open In Colab\"/></a>"
      ]
    },
    {
      "cell_type": "markdown",
      "source": [
        "1.3.1 Создайте для класса «студент» функцию, которая считает средний\n",
        "балл по трем дисциплинам, оценки по которым вводятся пользователям.\n",
        "Реализуйте программу двумя способами: без использования\n",
        "конструктора __init__ и с ним. "
      ],
      "metadata": {
        "id": "BEbP0-6L7EaT"
      }
    },
    {
      "cell_type": "code",
      "execution_count": null,
      "metadata": {
        "colab": {
          "base_uri": "https://localhost:8080/"
        },
        "id": "ujyA_fd35yUA",
        "outputId": "7ad8cb51-5b8e-4da4-dada-8d67040c6027"
      },
      "outputs": [
        {
          "output_type": "stream",
          "name": "stdout",
          "text": [
            "Введите оценку первого студента за первую дисциплину: 3\n",
            "Введите оценку первого студента за вторую дисциплину: 4\n",
            "Введите оценку первого студента за третью дисциплину: 5\n",
            "Средний балл студента: 4.0\n"
          ]
        }
      ],
      "source": [
        "# 1.3.1\n",
        "# Первый способ\n",
        "\n",
        "class Student():\n",
        "  first_subject = \"\"\n",
        "  second_subject = \"\"\n",
        "  third_subject = \"\"\n",
        "\n",
        "def average(pupil):\n",
        "  average_mark = (pupil.first_subject + pupil.second_subject + pupil.third_subject) / 3\n",
        "  return (\"Средний балл студента: {}\".format(average_mark))\n",
        "\n",
        "student1 = Student()\n",
        "student1.first_subject = int(input(\"Введите оценку первого студента за первую дисциплину: \"))\n",
        "student1.second_subject = int(input(\"Введите оценку первого студента за вторую дисциплину: \"))\n",
        "student1.third_subject = int(input(\"Введите оценку первого студента за третью дисциплину: \"))\n",
        "print(average(student1))"
      ]
    },
    {
      "cell_type": "code",
      "source": [
        "# 1.3.1\n",
        "# Второй способ\n",
        "\n",
        "class Student():\n",
        "  def __init__(self, subject1, subject2, subject3):\n",
        "    self.subject1 = subject1\n",
        "    self.subject2 = subject2\n",
        "    self.subject3 = subject3\n",
        "\n",
        "  def average(self):\n",
        "    return (self.subject1 + self.subject2 + self.subject3) / 3\n",
        "\n",
        "first = int(input(\"Введите оценку за первую дисциплину: \"))\n",
        "second = int(input(\"Введите оценку за вторую дисциплину: \"))\n",
        "third = int(input(\"Введите оценку за третью дисциплину: \"))\n",
        "student1 = Student(first, second, third)  \n",
        "print(student1.average())"
      ],
      "metadata": {
        "id": "aBhSri2QuWzU",
        "outputId": "440845b6-cd64-410b-f2fb-54be2e80833a",
        "colab": {
          "base_uri": "https://localhost:8080/"
        }
      },
      "execution_count": null,
      "outputs": [
        {
          "output_type": "stream",
          "name": "stdout",
          "text": [
            "Введите оценку за первую дисциплину: 3\n",
            "Введите оценку за вторую дисциплину: 4\n",
            "Введите оценку за третью дисциплину: 5\n",
            "4.0\n"
          ]
        }
      ]
    },
    {
      "cell_type": "markdown",
      "source": [
        "1.3.2 Создайте функцию, которая считает и выводит в файл заработную\n",
        "плату сотрудника склада в зависимости от количества отработанных дней в\n",
        "месяце. Оклад является защищаемым атрибутом класса «сотрудник». "
      ],
      "metadata": {
        "id": "YVEOvov77RIQ"
      }
    },
    {
      "cell_type": "markdown",
      "source": [
        "1.3.3 Используя результат предыдущего задания, создайте функцию начисления премии сотруднику, вычисляемую как 1% от уровня заработной платы."
      ],
      "metadata": {
        "id": "KyTav-NvmSGS"
      }
    },
    {
      "cell_type": "code",
      "source": [
        "# 1.3.2, 1.3.3\n",
        "\n",
        "class Employee():\n",
        "  days = int(input(\"Введите количество отработанных дней: \"))\n",
        "  payment = int(input(\"Введите плату за 1 рабочий день: \"))\n",
        "  salary = 0\n",
        "\n",
        "  def employee_salary(self):\n",
        "    self.salary = self.days * self.payment\n",
        "    f = open(\"task_1.3.2\", \"w\")\n",
        "    f.write(\"Зарплата: \" + str(self.salary) + \"\\n\")\n",
        "    f.close()\n",
        "    return self.salary\n",
        "\n",
        "  def premium(self):\n",
        "    self.salary = self.salary + (self.salary * 0.01)\n",
        "    f = open(\"task_1.3.2\", \"a\")\n",
        "    f.write(\"Зарплата с премией: \" + str(self.salary))\n",
        "    f.close()\n",
        "    return self.salary\n",
        "\n",
        "employee1 = Employee()\n",
        "print(employee1.employee_salary())\n",
        "print(employee1.premium())"
      ],
      "metadata": {
        "id": "7PySWxu2xh1M",
        "outputId": "5f91a7c5-6d68-45a9-fd81-2737f7b96a89",
        "colab": {
          "base_uri": "https://localhost:8080/"
        }
      },
      "execution_count": null,
      "outputs": [
        {
          "output_type": "stream",
          "name": "stdout",
          "text": [
            "Введите количество отработанных дней: 20\n",
            "Введите плату за 1 рабочий день: 1200\n",
            "24000\n",
            "24240.0\n"
          ]
        }
      ]
    },
    {
      "cell_type": "markdown",
      "source": [
        "1.3.4 Модифицируйте предыдущую программу, позволяющую вычислять\n",
        "заработную плату, премию для сотрудников и определять величину общего\n",
        "фонда заработной платы как сумму заработной платы и премий, деленную на\n",
        "коэффициент 0,7. Данные о сотрудниках вводятся через цикл while и\n",
        "записываются в соответствующий файл .txt или .xlsx. \n"
      ],
      "metadata": {
        "id": "9FQ0jDXF7Yoy"
      }
    },
    {
      "cell_type": "code",
      "source": [
        "# 1.3.4"
      ],
      "metadata": {
        "id": "tz6yvsjG7czu"
      },
      "execution_count": null,
      "outputs": []
    },
    {
      "cell_type": "markdown",
      "source": [
        "1.3.5 Используя технологию перегрузки операторов, измените\n",
        "__truediv__(деление) так, чтобы числителем был знаменатель и наоборот.\n",
        "Аналогичные процедуры осуществите для операторов\n",
        "__floordiv__(целочисленное деление), __mod__(остаток от деления). Числа\n",
        "вводят пользователи. Предусмотрите отработку исключений."
      ],
      "metadata": {
        "id": "vxBfwbG87dMi"
      }
    },
    {
      "cell_type": "code",
      "source": [
        "# 1.3.5"
      ],
      "metadata": {
        "id": "H_eQrMue7if9"
      },
      "execution_count": null,
      "outputs": []
    }
  ]
}