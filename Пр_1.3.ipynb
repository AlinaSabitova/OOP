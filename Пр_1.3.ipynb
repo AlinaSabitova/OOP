{
  "nbformat": 4,
  "nbformat_minor": 0,
  "metadata": {
    "colab": {
      "provenance": [],
      "authorship_tag": "ABX9TyPiVguJUHg7pGXHgtSP4J70",
      "include_colab_link": true
    },
    "kernelspec": {
      "name": "python3",
      "display_name": "Python 3"
    },
    "language_info": {
      "name": "python"
    }
  },
  "cells": [
    {
      "cell_type": "markdown",
      "metadata": {
        "id": "view-in-github",
        "colab_type": "text"
      },
      "source": [
        "<a href=\"https://colab.research.google.com/github/AlinaSabitova/OOP/blob/main/%D0%9F%D1%80_1.3.ipynb\" target=\"_parent\"><img src=\"https://colab.research.google.com/assets/colab-badge.svg\" alt=\"Open In Colab\"/></a>"
      ]
    },
    {
      "cell_type": "markdown",
      "source": [
        "1.3.1 Создайте для класса «студент» функцию, которая считает средний\n",
        "балл по трем дисциплинам, оценки по которым вводятся пользователям.\n",
        "Реализуйте программу двумя способами: без использования\n",
        "конструктора __init__ и с ним. "
      ],
      "metadata": {
        "id": "BEbP0-6L7EaT"
      }
    },
    {
      "cell_type": "code",
      "execution_count": 26,
      "metadata": {
        "colab": {
          "base_uri": "https://localhost:8080/"
        },
        "id": "ujyA_fd35yUA",
        "outputId": "c2b67983-7f24-4470-e2a8-269c6a44c4a4"
      },
      "outputs": [
        {
          "output_type": "stream",
          "name": "stdout",
          "text": [
            "Введите первую дисциплину: История\n",
            "Введите оценку студента: 5\n",
            "Введите вторую дисциплину: История\n",
            "Введите оценку студента: 4\n",
            "Введите третью дисциплину: Русский\n",
            "Введите оценку студента: 3\n",
            "Дисциплины должны быть разные!\n",
            "None\n"
          ]
        }
      ],
      "source": [
        "# 1.3.1\n",
        "# Первый способ\n",
        "\n",
        "class Student():\n",
        "  first_sub = \"\"\n",
        "  second_sub = \"\"\n",
        "  third_sub = \"\"\n",
        "\n",
        "def average(pupil):\n",
        "  if discipline1==discipline2 or discipline2==discipline3 or discipline1==discipline3:\n",
        "    print(\"Дисциплины должны быть разные!\")\n",
        "  elif 2<=pupil.first_sub<=5 and 2<=pupil.second_sub<=5 and 2<=pupil.third_sub<=5:\n",
        "    average_mark = (pupil.first_sub + pupil.second_sub + pupil.third_sub) / 3\n",
        "    print(\"Средний балл студента: {}\".format(average_mark))\n",
        "  else:\n",
        "    print(\"Пятибальная система оценивания!\")\n",
        "\n",
        "try:\n",
        "  student1 = Student()\n",
        "  discipline1 = str(input(\"Введите первую дисциплину: \"))\n",
        "  student1.first_sub = int(input(\"Введите оценку студента: \"))\n",
        "  discipline2 = str(input(\"Введите вторую дисциплину: \"))\n",
        "  student1.second_sub = int(input(\"Введите оценку студента: \"))\n",
        "  discipline3 = str(input(\"Введите третью дисциплину: \"))\n",
        "  student1.third_sub = int(input(\"Введите оценку студента: \"))\n",
        "  print(average(student1))\n",
        "except ValueError as err:\n",
        "  print(\"Введите целое число!\")"
      ]
    },
    {
      "cell_type": "code",
      "source": [
        "# 1.3.1\n",
        "# Второй способ\n",
        "\n",
        "class Student():\n",
        "  def __init__(self, sub1, sub2, sub3):\n",
        "    self.sub1 = sub1\n",
        "    self.sub2 = sub2\n",
        "    self.sub3 = sub3\n",
        "\n",
        "  def average(self):\n",
        "    if discipline1==discipline2 or discipline2==discipline3 or discipline1==discipline3:\n",
        "      print(\"Дисциплины должны быть разные!\")\n",
        "    elif 2<=self.sub1<=5 and 2<=self.sub2<=5 and 2<=self.sub3<=5:\n",
        "      average_mark = (self.sub1 + self.sub2 + self.sub3) / 3\n",
        "      print(\"Средний балл студента: {}\".format(average_mark))\n",
        "    else:\n",
        "      print(\"Пятибальная система оценивания!\")\n",
        "\n",
        "try:\n",
        "  discipline1 = str(input(\"Введите первую дисциплину: \"))\n",
        "  first = int(input(\"Введите оценку студента: \"))\n",
        "  discipline1 = str(input(\"Введите первую дисциплину: \"))\n",
        "  second = int(input(\"Введите оценку студента: \"))\n",
        "  discipline1 = str(input(\"Введите первую дисциплину: \"))\n",
        "  third = int(input(\"Введите оценку студента: \"))\n",
        "  student1 = Student(first, second, third)  \n",
        "  print(student1.average())\n",
        "except ValueError as err:\n",
        "  print(\"Введите целое число!\")"
      ],
      "metadata": {
        "id": "aBhSri2QuWzU",
        "outputId": "e639e5ef-baac-4bfc-d17f-57f2be8abc38",
        "colab": {
          "base_uri": "https://localhost:8080/"
        }
      },
      "execution_count": 24,
      "outputs": [
        {
          "output_type": "stream",
          "name": "stdout",
          "text": [
            "Введите первую дисциплину: История\n",
            "Введите оценку студента: 4\n",
            "Введите первую дисциплину: Русский язык\n",
            "Введите оценку студента: 7\n",
            "Введите первую дисциплину: Математика\n",
            "Введите оценку студента: 1\n",
            "Пятибальная система оценивания!\n",
            "None\n"
          ]
        }
      ]
    },
    {
      "cell_type": "markdown",
      "source": [
        "1.3.2 Создайте функцию, которая считает и выводит в файл заработную\n",
        "плату сотрудника склада в зависимости от количества отработанных дней в\n",
        "месяце. Оклад является защищаемым атрибутом класса «сотрудник». "
      ],
      "metadata": {
        "id": "YVEOvov77RIQ"
      }
    },
    {
      "cell_type": "markdown",
      "source": [
        "1.3.3 Используя результат предыдущего задания, создайте функцию начисления премии сотруднику, вычисляемую как 1% от уровня заработной платы."
      ],
      "metadata": {
        "id": "KyTav-NvmSGS"
      }
    },
    {
      "cell_type": "code",
      "source": [
        "# 1.3.2, 1.3.3\n",
        "\n",
        "class Employee():\n",
        "  payment = int(input(\"Введите заработную плату работника: \"))\n",
        "  work_days = int(input(\"Введите количество рабочих дней в месяце: \"))\n",
        "  fact_days = int(input(\"Введите количество фактически отработанных дней: \"))\n",
        "  salary = 0\n",
        "\n",
        "  def employee_salary(self):\n",
        "    if self.payment<=0 or self.work_days<=0 or self.fact_days<0:\n",
        "      print(\"Введите правильные данные\")\n",
        "    else:\n",
        "      self.salary = self.payment / self.work_days * self.fact_days \n",
        "      f = open(\"task_1.3.2\", \"w\")\n",
        "      f.write(\"Зарплата: \" + str(self.salary) + \"\\n\")\n",
        "      f.close()\n",
        "      print(self.salary)\n",
        "\n",
        "  def premium(self):\n",
        "    self.salary = self.salary + (self.salary * 0.01)\n",
        "    f = open(\"task_1.3.2\", \"a\")\n",
        "    f.write(\"Зарплата с премией: \" + str(self.salary))\n",
        "    f.close()\n",
        "    return self.salary\n",
        "\n",
        "employee1 = Employee()\n",
        "print(employee1.employee_salary())\n",
        "print(employee1.premium())"
      ],
      "metadata": {
        "id": "7PySWxu2xh1M",
        "outputId": "8123c0fb-8faa-4ab5-c3e3-6af98c298b6f",
        "colab": {
          "base_uri": "https://localhost:8080/"
        }
      },
      "execution_count": null,
      "outputs": [
        {
          "output_type": "stream",
          "name": "stdout",
          "text": [
            "Введите заработную плату работника: 50000\n",
            "Введите количество рабочих дней в месяце: 25\n",
            "Введите количество фактически отработанных дней: 22\n",
            "44000.0\n",
            "None\n",
            "44440.0\n"
          ]
        }
      ]
    },
    {
      "cell_type": "markdown",
      "source": [
        "1.3.5 Используя технологию перегрузки операторов, измените\n",
        "__truediv__(деление) так, чтобы числителем был знаменатель и наоборот.\n",
        "Аналогичные процедуры осуществите для операторов\n",
        "__floordiv__(целочисленное деление), __mod__(остаток от деления). Числа\n",
        "вводят пользователи. Предусмотрите отработку исключений."
      ],
      "metadata": {
        "id": "vxBfwbG87dMi"
      }
    },
    {
      "cell_type": "code",
      "source": [
        "# 1.3.5\n",
        "\n",
        "class Task():\n",
        "  def __init__(self, x):\n",
        "    self.x = x\n",
        "\n",
        "  def __truediv__(self, other):\n",
        "    if self.x == 0:\n",
        "      raise ZeroDivisionError(\"Невозможно выполнить деление.\")\n",
        "    else:\n",
        "      return other/self.x\n",
        "\n",
        "  def __floordiv__(self, other):\n",
        "    if self.x == 0:\n",
        "      raise ZeroDivisionError(\"Невозможно выполнить деление.\")\n",
        "    else:\n",
        "      return other//self.x\n",
        "\n",
        "  def __mod__(self, other):\n",
        "    if self.x == 0:\n",
        "      raise ZeroDivisionError(\"Невозможно выполнить деление.\")\n",
        "    else:\n",
        "      return other%self.x\n",
        "try:\n",
        "  a = Task(int(input(\"Введите исходное число: \")))\n",
        "  print(a/int(input(\"Введите первый знаменатель: \")))\n",
        "  print(a//int(input(\"Введите второй знаменатель: \")))\n",
        "  print(a%int(input(\"Введите третий знаменатель: \")))\n",
        "except ZeroDivisionError as err:\n",
        "  print(\"Ошибка: \", err, \"На ноль делить нельзя!\")"
      ],
      "metadata": {
        "id": "H_eQrMue7if9",
        "outputId": "53927d19-ad15-4c90-d04f-7a0a21acdb0f",
        "colab": {
          "base_uri": "https://localhost:8080/"
        }
      },
      "execution_count": null,
      "outputs": [
        {
          "output_type": "stream",
          "name": "stdout",
          "text": [
            "Введите исходное число: 5\n",
            "Введите первый знаменатель: 2\n",
            "0.4\n",
            "Введите второй знаменатель: 14\n",
            "2\n",
            "Введите третий знаменатель: 13\n",
            "3\n"
          ]
        }
      ]
    }
  ]
}