{
  "nbformat": 4,
  "nbformat_minor": 0,
  "metadata": {
    "colab": {
      "provenance": [],
      "authorship_tag": "ABX9TyPCcaFwZfHbsMPeJ9bS12Xj",
      "include_colab_link": true
    },
    "kernelspec": {
      "name": "python3",
      "display_name": "Python 3"
    },
    "language_info": {
      "name": "python"
    }
  },
  "cells": [
    {
      "cell_type": "markdown",
      "metadata": {
        "id": "view-in-github",
        "colab_type": "text"
      },
      "source": [
        "<a href=\"https://colab.research.google.com/github/AlinaSabitova/OOP/blob/main/%D0%98%D0%BD%D0%B44.ipynb\" target=\"_parent\"><img src=\"https://colab.research.google.com/assets/colab-badge.svg\" alt=\"Open In Colab\"/></a>"
      ]
    },
    {
      "cell_type": "markdown",
      "source": [
        "#Задание 1"
      ],
      "metadata": {
        "id": "UoeAcnfsEXMq"
      }
    },
    {
      "cell_type": "code",
      "source": [
        "import time \n",
        "import sys"
      ],
      "metadata": {
        "id": "OD793RVRWeZ-"
      },
      "execution_count": 128,
      "outputs": []
    },
    {
      "cell_type": "code",
      "execution_count": 219,
      "metadata": {
        "colab": {
          "base_uri": "https://localhost:8080/"
        },
        "id": "9qhr-MioD3fc",
        "outputId": "e866bd14-b2b2-4b06-df5e-958acf8c54d6"
      },
      "outputs": [
        {
          "output_type": "stream",
          "name": "stdout",
          "text": [
            "10\n",
            "Время выполнения кода:  0.0005421638488769531\n"
          ]
        }
      ],
      "source": [
        "start = time.time()\n",
        "\n",
        "def recursive_sum(*args):\n",
        "  if not args:\n",
        "    return 0\n",
        "  else:\n",
        "    return args[0] + recursive_sum(*args[1:])\n",
        "\n",
        "if __name__ == \"__main__\":\n",
        "  print(recursive_sum(1, 2, 3, 4))\n",
        "\n",
        "end = time.time() - start\n",
        "print(\"Время выполнения кода: \", end)"
      ]
    },
    {
      "cell_type": "code",
      "source": [
        "print(\"Занимаемая память:\")\n",
        "sys.getsizeof(recursive_sum)"
      ],
      "metadata": {
        "colab": {
          "base_uri": "https://localhost:8080/"
        },
        "id": "xmWqe_wZWwWK",
        "outputId": "de9c8dfc-8f6f-4a0b-fafe-84d12fd97e70"
      },
      "execution_count": 131,
      "outputs": [
        {
          "output_type": "stream",
          "name": "stdout",
          "text": [
            "Занимаемая память:\n"
          ]
        },
        {
          "output_type": "execute_result",
          "data": {
            "text/plain": [
              "144"
            ]
          },
          "metadata": {},
          "execution_count": 131
        }
      ]
    },
    {
      "cell_type": "markdown",
      "source": [
        "#Задание 2"
      ],
      "metadata": {
        "id": "FAm7MaohEZkL"
      }
    },
    {
      "cell_type": "code",
      "source": [
        "start = time.time()\n",
        "\n",
        "def answer(func):\n",
        "  def output(*args, **kwargs):\n",
        "    print(\"Вывод функции: \")\n",
        "    func(*args, **kwargs)\n",
        "  return output\n",
        "\n",
        "@answer\n",
        "def a_plus_b(a, b):\n",
        "  print(a + b)\n",
        "\n",
        "@answer\n",
        "def get_letters(text: str) -> str:\n",
        "  print(''.join(sorted(set(filter(str.isalpha, text.lower())))))\n",
        "\n",
        "if __name__ == \"__main__\":\n",
        "  a_plus_b(3, 5)\n",
        "  a_plus_b(7, 9)\n",
        "  get_letters('Hello, world!')\n",
        "  get_letters('Декораторы это круто =)')\n",
        "  \n",
        "end = time.time() - start\n",
        "print(\"Время выполнения кода: \", end)"
      ],
      "metadata": {
        "colab": {
          "base_uri": "https://localhost:8080/"
        },
        "id": "hfwG_F9yUSxM",
        "outputId": "16a01157-eaa7-4d70-8376-edbc9c7f5dbf"
      },
      "execution_count": 220,
      "outputs": [
        {
          "output_type": "stream",
          "name": "stdout",
          "text": [
            "Вывод функции: \n",
            "8\n",
            "Вывод функции: \n",
            "16\n",
            "Вывод функции: \n",
            "dehlorw\n",
            "Вывод функции: \n",
            "адекортуыэ\n",
            "Время выполнения кода:  0.0052490234375\n"
          ]
        }
      ]
    },
    {
      "cell_type": "code",
      "source": [
        "print(\"Занимаемая память:\")\n",
        "sys.getsizeof(a_plus_b, get_letters)"
      ],
      "metadata": {
        "colab": {
          "base_uri": "https://localhost:8080/"
        },
        "id": "1dJJivA1XC8r",
        "outputId": "f6e44807-aebb-4098-96c2-e194c03cb5b6"
      },
      "execution_count": 138,
      "outputs": [
        {
          "output_type": "stream",
          "name": "stdout",
          "text": [
            "Занимаемая память:\n"
          ]
        },
        {
          "output_type": "execute_result",
          "data": {
            "text/plain": [
              "144"
            ]
          },
          "metadata": {},
          "execution_count": 138
        }
      ]
    },
    {
      "cell_type": "markdown",
      "source": [
        "#Задание 3"
      ],
      "metadata": {
        "id": "3Rj2BmRiGEWi"
      }
    },
    {
      "cell_type": "code",
      "source": [
        "start = time.time()\n",
        "\n",
        "def text_decor(func):\n",
        "  def output(*args, **kwargs):\n",
        "    print(\"Вывод функции: \")\n",
        "    print(\"Hello\")\n",
        "    func(*args, **kwargs)\n",
        "    print(\"Goodbye!\")\n",
        "  return output\n",
        "\n",
        "@text_decor\n",
        "def simple_func():\n",
        "  print('I just simple python func')\n",
        "\n",
        "@text_decor\n",
        "def multiply(num1, num2):\n",
        "  print(num1 * num2)\n",
        "\n",
        "if __name__ == \"__main__\":\n",
        "  simple_func()\n",
        "  multiply(3, 5)\n",
        "\n",
        "end = time.time() - start\n",
        "print(\"Время выполнения кода: \", end)"
      ],
      "metadata": {
        "colab": {
          "base_uri": "https://localhost:8080/"
        },
        "id": "AAScnpxUTOYd",
        "outputId": "d6f411ba-c5b4-46a2-f4fb-a6ff6bc9a10f"
      },
      "execution_count": 233,
      "outputs": [
        {
          "output_type": "stream",
          "name": "stdout",
          "text": [
            "Вывод функции: \n",
            "Hello\n",
            "I just simple python func\n",
            "Goodbye!\n",
            "Вывод функции: \n",
            "Hello\n",
            "15\n",
            "Goodbye!\n",
            "Время выполнения кода:  0.004215717315673828\n"
          ]
        }
      ]
    },
    {
      "cell_type": "code",
      "source": [
        "print(\"Занимаемая память:\")\n",
        "sys.getsizeof(simple_func)"
      ],
      "metadata": {
        "colab": {
          "base_uri": "https://localhost:8080/"
        },
        "id": "IbCYao9vXzFm",
        "outputId": "71d25b07-2608-4204-9133-a5980508ed23"
      },
      "execution_count": 147,
      "outputs": [
        {
          "output_type": "stream",
          "name": "stdout",
          "text": [
            "Занимаемая память:\n"
          ]
        },
        {
          "output_type": "execute_result",
          "data": {
            "text/plain": [
              "144"
            ]
          },
          "metadata": {},
          "execution_count": 147
        }
      ]
    },
    {
      "cell_type": "markdown",
      "source": [
        "#Задание 4"
      ],
      "metadata": {
        "id": "tqz9zCcpGF9q"
      }
    },
    {
      "cell_type": "code",
      "source": [
        "start = time.time()\n",
        "\n",
        "def repeater(func):\n",
        "  def output(num1, num2):\n",
        "    print(\"Произведение: \")\n",
        "    func(num1, num2)\n",
        "    func(num1, num2)\n",
        "  return output\n",
        "\n",
        "@repeater\n",
        "def multiply(num1, num2):\n",
        "  print(num1 * num2)\n",
        "\n",
        "if __name__ == \"__main__\":\n",
        "  multiply(2, 7) # после этого распечатается две строки со значением 14\n",
        "  multiply(5, 3) # после этого распечатается две строки со значением 15\n",
        "\n",
        "end = time.time() - start\n",
        "print(\"Время выполнения кода: \", end)"
      ],
      "metadata": {
        "colab": {
          "base_uri": "https://localhost:8080/"
        },
        "id": "1xqvnIc1MSDQ",
        "outputId": "9bc99293-7c75-4a0e-8dc0-8ce57a89b7ff"
      },
      "execution_count": 222,
      "outputs": [
        {
          "output_type": "stream",
          "name": "stdout",
          "text": [
            "Произведение: \n",
            "14\n",
            "14\n",
            "Произведение: \n",
            "15\n",
            "15\n",
            "Время выполнения кода:  0.0032663345336914062\n"
          ]
        }
      ]
    },
    {
      "cell_type": "code",
      "source": [
        "print(\"Занимаемая память:\")\n",
        "sys.getsizeof(repeater, multiply)"
      ],
      "metadata": {
        "colab": {
          "base_uri": "https://localhost:8080/"
        },
        "id": "DSoZf04DX87h",
        "outputId": "67f4c80c-4c7c-48ea-9d2c-0b49e423cbcb"
      },
      "execution_count": 144,
      "outputs": [
        {
          "output_type": "stream",
          "name": "stdout",
          "text": [
            "Занимаемая память:\n"
          ]
        },
        {
          "output_type": "execute_result",
          "data": {
            "text/plain": [
              "144"
            ]
          },
          "metadata": {},
          "execution_count": 144
        }
      ]
    },
    {
      "cell_type": "markdown",
      "source": [
        "#Задание 5"
      ],
      "metadata": {
        "id": "71IGSOchGHTM"
      }
    },
    {
      "cell_type": "code",
      "source": [
        "start = time.time()\n",
        "\n",
        "def double_it(func):\n",
        "  def output(*args, **kwargs):\n",
        "    print(\"Вывод функции: \")\n",
        "    return func(*args * 2) \n",
        "  return output\n",
        "\n",
        "@double_it\n",
        "def multiply(num1, num2):\n",
        "  print(num1 * num2)\n",
        "\n",
        "@double_it\n",
        "def get_sum(*args):\n",
        "  print(sum(args))\n",
        "\n",
        "if __name__ == \"__main__\":\n",
        "  #multiply(9, 4) \n",
        "  get_sum(1, 2, 3, 4, 5)\n",
        "\n",
        "end = time.time() - start\n",
        "print(\"Время выполнения кода: \", end)"
      ],
      "metadata": {
        "colab": {
          "base_uri": "https://localhost:8080/"
        },
        "id": "DG5y7PjTfa75",
        "outputId": "ffc48298-15fe-4a3f-db1e-8010020eae3f"
      },
      "execution_count": 223,
      "outputs": [
        {
          "output_type": "stream",
          "name": "stdout",
          "text": [
            "Вывод функции: \n",
            "30\n",
            "Время выполнения кода:  0.004575967788696289\n"
          ]
        }
      ]
    },
    {
      "cell_type": "code",
      "source": [
        "print(\"Занимаемая память:\")\n",
        "sys.getsizeof(multiply, get_sum)"
      ],
      "metadata": {
        "colab": {
          "base_uri": "https://localhost:8080/"
        },
        "id": "r3vK08ZgmHyz",
        "outputId": "00056ae0-5443-41a3-ef2e-f1f829959c0b"
      },
      "execution_count": 225,
      "outputs": [
        {
          "output_type": "stream",
          "name": "stdout",
          "text": [
            "Занимаемая память:\n"
          ]
        },
        {
          "output_type": "execute_result",
          "data": {
            "text/plain": [
              "144"
            ]
          },
          "metadata": {},
          "execution_count": 225
        }
      ]
    },
    {
      "cell_type": "markdown",
      "source": [
        "#Задание 6"
      ],
      "metadata": {
        "id": "bEjq2hFcGI4h"
      }
    },
    {
      "cell_type": "code",
      "source": [
        "start = time.time()\n",
        "\n",
        "def add_args(func):\n",
        "    def output(*args):\n",
        "      print(\"Вывод функции: \")\n",
        "      return func('begin', *args, 'end')\n",
        "    return output\n",
        "\n",
        "@add_args\n",
        "def function(*args):\n",
        "    print(args)\n",
        "\n",
        "if __name__ == \"__main__\":\n",
        "  function('hello', 'world', 'my', 'name is', 'Artem')\n",
        "\n",
        "end = time.time() - start\n",
        "print(\"Время выполнения кода: \", end)"
      ],
      "metadata": {
        "colab": {
          "base_uri": "https://localhost:8080/"
        },
        "id": "D-zv-Ly6igRP",
        "outputId": "f366f173-82f1-4226-ffc0-cb2820f00a14"
      },
      "execution_count": 224,
      "outputs": [
        {
          "output_type": "stream",
          "name": "stdout",
          "text": [
            "Вывод функции: \n",
            "('begin', 'hello', 'world', 'my', 'name is', 'Artem', 'end')\n",
            "Время выполнения кода:  0.002515554428100586\n"
          ]
        }
      ]
    },
    {
      "cell_type": "code",
      "source": [
        "print(\"Занимаемая память:\")\n",
        "sys.getsizeof(function)"
      ],
      "metadata": {
        "colab": {
          "base_uri": "https://localhost:8080/"
        },
        "id": "PNchg2a8jRv7",
        "outputId": "8a73925d-908f-412a-e336-bcb34ad74771"
      },
      "execution_count": 212,
      "outputs": [
        {
          "output_type": "stream",
          "name": "stdout",
          "text": [
            "Занимаемая память:\n"
          ]
        },
        {
          "output_type": "execute_result",
          "data": {
            "text/plain": [
              "144"
            ]
          },
          "metadata": {},
          "execution_count": 212
        }
      ]
    },
    {
      "cell_type": "markdown",
      "source": [
        "#Задание 7"
      ],
      "metadata": {
        "id": "bSvR0jyGGKTC"
      }
    },
    {
      "cell_type": "code",
      "source": [
        "def validate_args(func):\n",
        "  def output(*args):\n",
        "    if len(args) < 2:\n",
        "      print(\"Not enough arguments\")\n",
        "    elif len(args) > 2:\n",
        "      print(\"Too many arguments\")\n",
        "    elif type(args) != int:\n",
        "      print(\"Wrong types\")\n",
        "    else:\n",
        "      func(*args)\n",
        "    return output\n",
        "\n",
        "@validate_args\n",
        "def summa(*args):\n",
        "  print(sum(args))\n",
        "\n",
        "#не успела доделать"
      ],
      "metadata": {
        "colab": {
          "base_uri": "https://localhost:8080/",
          "height": 207
        },
        "id": "DAtWOOYJlr7F",
        "outputId": "9a254e0e-247b-4db2-a251-e160e80fe94e"
      },
      "execution_count": 232,
      "outputs": [
        {
          "output_type": "error",
          "ename": "TypeError",
          "evalue": "ignored",
          "traceback": [
            "\u001b[0;31m---------------------------------------------------------------------------\u001b[0m",
            "\u001b[0;31mTypeError\u001b[0m                                 Traceback (most recent call last)",
            "\u001b[0;32m<ipython-input-232-d333d49bfc80>\u001b[0m in \u001b[0;36m<cell line: 17>\u001b[0;34m()\u001b[0m\n\u001b[1;32m     15\u001b[0m   \u001b[0mprint\u001b[0m\u001b[0;34m(\u001b[0m\u001b[0msum\u001b[0m\u001b[0;34m(\u001b[0m\u001b[0margs\u001b[0m\u001b[0;34m)\u001b[0m\u001b[0;34m)\u001b[0m\u001b[0;34m\u001b[0m\u001b[0;34m\u001b[0m\u001b[0m\n\u001b[1;32m     16\u001b[0m \u001b[0;34m\u001b[0m\u001b[0m\n\u001b[0;32m---> 17\u001b[0;31m \u001b[0msumma\u001b[0m\u001b[0;34m(\u001b[0m\u001b[0;36m1\u001b[0m\u001b[0;34m)\u001b[0m\u001b[0;34m\u001b[0m\u001b[0;34m\u001b[0m\u001b[0m\n\u001b[0m",
            "\u001b[0;31mTypeError\u001b[0m: 'NoneType' object is not callable"
          ]
        }
      ]
    }
  ]
}