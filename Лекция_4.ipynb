{
  "nbformat": 4,
  "nbformat_minor": 0,
  "metadata": {
    "colab": {
      "provenance": [],
      "authorship_tag": "ABX9TyNyKSavUTnsCW/SFk0IaQda",
      "include_colab_link": true
    },
    "kernelspec": {
      "name": "python3",
      "display_name": "Python 3"
    },
    "language_info": {
      "name": "python"
    }
  },
  "cells": [
    {
      "cell_type": "markdown",
      "metadata": {
        "id": "view-in-github",
        "colab_type": "text"
      },
      "source": [
        "<a href=\"https://colab.research.google.com/github/AlinaSabitova/OOP/blob/main/%D0%9B%D0%B5%D0%BA%D1%86%D0%B8%D1%8F_4.ipynb\" target=\"_parent\"><img src=\"https://colab.research.google.com/assets/colab-badge.svg\" alt=\"Open In Colab\"/></a>"
      ]
    },
    {
      "cell_type": "markdown",
      "source": [
        "#Парадигмы ООП. Полиморфизм \n"
      ],
      "metadata": {
        "id": "rFbFBNmy6_w7"
      }
    },
    {
      "cell_type": "markdown",
      "source": [
        "Полиморфизм в объектно-ориентированном программировании – это\n",
        "возможность обработки разных типов данных, т. е. принадлежащих к разным\n",
        "классам, с помощью «одно и той же» функции, или метода. На самом деле\n",
        "одинаковым является только имя метода, его исходный код зависит от класса.\n",
        "Кроме того, результаты работы одноименных методов могут существенно\n",
        "различаться. \n"
      ],
      "metadata": {
        "id": "u-pZE4Vj7FcJ"
      }
    },
    {
      "cell_type": "markdown",
      "source": [
        "Например, два разных класса содержат метод total, однако инструкции\n",
        "каждого предусматривают совершенно разные операции. Так в классе T1 – это\n",
        "прибавление 10 к аргументу, в T2 – подсчет длины строки символов. В\n",
        "зависимости от того, к объекту какого класса применяется метод total,\n",
        "выполняются те или иные инструкции. \n"
      ],
      "metadata": {
        "id": "P7VHYc__8jpQ"
      }
    },
    {
      "cell_type": "code",
      "source": [
        "class T1:\n",
        "  n=10\n",
        "  def total(self, N):\n",
        "    self.total = int(self.n) + int(N)\n",
        "\n",
        "class T2:\n",
        "  def total(self,s):\n",
        "    self.total = len(str(s))\n",
        "\n",
        "t1 = T1()\n",
        "t2 = T2()\n",
        "t1.total(45)\n",
        "t2.total(45)\n",
        "print(t1.total) # Вывод: 55\n",
        "print(t2.total) # Вывод: 2"
      ],
      "metadata": {
        "colab": {
          "base_uri": "https://localhost:8080/"
        },
        "id": "q06oiOCu8S74",
        "outputId": "1000e421-464b-4b0a-d802-ff9f2bb4872e"
      },
      "execution_count": 1,
      "outputs": [
        {
          "output_type": "stream",
          "name": "stdout",
          "text": [
            "55\n",
            "2\n"
          ]
        }
      ]
    },
    {
      "cell_type": "markdown",
      "source": [
        "Полиморфизм дает возможность реализовывать так называемые единые\n",
        "интерфейсы для объектов различных классов. Например, разные классы могут\n",
        "предусматривать различный способ вывода той или иной информации объектов.\n",
        "В Python среди прочего полиморфизм находит\n",
        "отражение в методах перегрузки операторов ( __init__() и __del__()), которые\n",
        "вызываются при создании объекта и его удалении. "
      ],
      "metadata": {
        "id": "FdmZHN4j-Fc9"
      }
    },
    {
      "cell_type": "markdown",
      "source": [
        "Рассмотрим пример\n",
        "полиморфизма на еще одном методе, который перегружает функцию print().\n",
        "Создадим объект собственного класса, а потом вывести его на экран, то\n",
        "получим информацию о классе объекта и его адрес в памяти. Такое поведение\n",
        "функции print() по умолчанию по отношению к пользовательским классам\n",
        "запрограммировано на самом верхнем уровне иерархии, где-то в суперклассе, от\n",
        "которого неявно наследуются все остальные. "
      ],
      "metadata": {
        "id": "H6-ItWXO-YAM"
      }
    },
    {
      "cell_type": "code",
      "source": [
        "class A:\n",
        "  def __init__(self, v1, v2):\n",
        "    self.field1 = v1\n",
        "    self.field2 = v2\n",
        "a = A(3, 4)\n",
        "print(a) "
      ],
      "metadata": {
        "colab": {
          "base_uri": "https://localhost:8080/"
        },
        "id": "G4YqPkuq-pqu",
        "outputId": "fe5dd2a1-fa62-4903-ceb2-812e21c4b9d4"
      },
      "execution_count": 2,
      "outputs": [
        {
          "output_type": "stream",
          "name": "stdout",
          "text": [
            "<__main__.A object at 0x7f6ac06377c0>\n"
          ]
        }
      ]
    },
    {
      "cell_type": "code",
      "source": [
        "class Parent:\n",
        "  def some_method(self):\n",
        "    print(\"This is Parent object\")\n",
        "class Child1(Parent):\n",
        "  def some_method(self):\n",
        "    print(\"This is Child1 object\")\n",
        "class Child2(Parent):\n",
        "  def some_method(self):\n",
        "    print(\"This is Child2 object\")\n",
        "def who_am_i(obj):\n",
        "  obj.some_method()\n",
        "p = Parent()\n",
        "c1 = Child1()\n",
        "c2 = Child2()\n",
        "who_am_i(p)\n",
        "who_am_i(c1)\n",
        "who_am_i(c2)\n",
        "print() "
      ],
      "metadata": {
        "colab": {
          "base_uri": "https://localhost:8080/"
        },
        "id": "0OjXLa6Q_AVJ",
        "outputId": "e30ecab4-d3f6-4a86-b589-71937870e121"
      },
      "execution_count": 3,
      "outputs": [
        {
          "output_type": "stream",
          "name": "stdout",
          "text": [
            "This is Parent object\n",
            "This is Child1 object\n",
            "This is Child2 object\n",
            "\n"
          ]
        }
      ]
    }
  ]
}